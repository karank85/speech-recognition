{
  "cells": [
    {
      "cell_type": "markdown",
      "metadata": {
        "id": "view-in-github",
        "colab_type": "text"
      },
      "source": [
        "<a href=\"https://colab.research.google.com/github/karank85/speech-recognition/blob/main/training_notebook_non_dl.ipynb\" target=\"_parent\"><img src=\"https://colab.research.google.com/assets/colab-badge.svg\" alt=\"Open In Colab\"/></a>"
      ]
    },
    {
      "cell_type": "code",
      "execution_count": null,
      "metadata": {
        "id": "joalvPPIEovi"
      },
      "outputs": [],
      "source": [
        "import os\n",
        "\n",
        "import numpy as np\n",
        "from numpy import ndarray\n",
        "import pandas as pd\n",
        "import random\n",
        "\n",
        "import librosa\n",
        "\n",
        "from sklearn.model_selection import train_test_split\n",
        "\n",
        "import matplotlib.pyplot as plt\n",
        "import IPython.display as ipd\n",
        "import librosa.display\n",
        "\n",
        "from tqdm import tqdm\n",
        "\n",
        "import tqdm\n",
        "\n",
        "import glob\n",
        "import torch\n",
        "\n",
        "from pathlib import Path"
      ]
    },
    {
      "cell_type": "code",
      "execution_count": null,
      "metadata": {
        "colab": {
          "base_uri": "https://localhost:8080/",
          "height": 36
        },
        "id": "0I4Jsfwxqda-",
        "outputId": "b4bec9a1-abc0-4952-caea-614ce479cb6d"
      },
      "outputs": [
        {
          "output_type": "execute_result",
          "data": {
            "text/plain": [
              "'0.10.1'"
            ],
            "application/vnd.google.colaboratory.intrinsic+json": {
              "type": "string"
            }
          },
          "metadata": {},
          "execution_count": 2
        }
      ],
      "source": [
        "librosa.__version__"
      ]
    },
    {
      "cell_type": "code",
      "execution_count": null,
      "metadata": {
        "colab": {
          "base_uri": "https://localhost:8080/"
        },
        "id": "O00x13rfjSEp",
        "outputId": "482c3bcd-e82a-4ebe-f910-d89cc627eba4"
      },
      "outputs": [
        {
          "output_type": "stream",
          "name": "stdout",
          "text": [
            "Mounted at /content/drive\n"
          ]
        }
      ],
      "source": [
        "from google.colab import drive\n",
        "drive.mount('/content/drive', force_remount=True)"
      ]
    },
    {
      "cell_type": "code",
      "execution_count": null,
      "metadata": {
        "colab": {
          "base_uri": "https://localhost:8080/",
          "height": 36
        },
        "id": "oFl-7zCtzEAS",
        "outputId": "48697fba-c79a-4a32-a66b-6c1c103616f3"
      },
      "outputs": [
        {
          "output_type": "execute_result",
          "data": {
            "text/plain": [
              "'cpu'"
            ],
            "application/vnd.google.colaboratory.intrinsic+json": {
              "type": "string"
            }
          },
          "metadata": {},
          "execution_count": 4
        }
      ],
      "source": [
        "device = \"cuda\" if torch.cuda.is_available() else \"cpu\"\n",
        "device"
      ]
    },
    {
      "cell_type": "code",
      "source": [
        "# Assumptions:\n",
        "# - The transcription file is located in the same directory as the audio files.\n",
        "class AudioDataset:\n",
        "  \"\"\"\n",
        "  Class for loading and storing audio data.\n",
        "  \"\"\"\n",
        "\n",
        "  def __init__(self):\n",
        "    self.df = pd.DataFrame(columns=['id', 'path', 'transcription'])\n",
        "\n",
        "  def load_transcriptions(self, directory_path: str) -> bool:\n",
        "    \"\"\"\n",
        "    Load all transcriptions from a given directory, including subdirectories.\n",
        "    Returns False if no transcription files were found, or if any failed to load.\n",
        "    \"\"\"\n",
        "    sound_names = glob.glob(\n",
        "        f\"{directory_path}/**/*.wav\",\n",
        "        recursive=True\n",
        "    )\n",
        "\n",
        "    if len(sound_names) == 0:\n",
        "      return False\n",
        "\n",
        "    for path in sound_names:\n",
        "      if not self.load_transcription_file(path):\n",
        "        return False\n",
        "\n",
        "    return True\n",
        "\n",
        "\n",
        "\n",
        "  def load_transcription_file(self, file_path: str) -> bool:\n",
        "    \"\"\"\n",
        "    Parse transcription file and records the audio ID - subtitle mapping.\n",
        "    Returns False if the file could not be read.\n",
        "    \"\"\"\n",
        "\n",
        "    file_directory = Path(file_path).parent\n",
        "    file_name = Path(file_path).stem\n",
        "    self.df.loc[len(self.df)] = {\n",
        "        'id':file_name,\n",
        "        'transcription':file_directory.name,\n",
        "        'path': f'{file_directory}/{file_name}.wav'\n",
        "    }\n",
        "    return True\n",
        "\n",
        "  def keys(self):\n",
        "    return iter(self.df['id'])\n",
        "\n",
        "  def get(self, id: int):\n",
        "    \"\"\"\n",
        "    Retrieve a dataframe row from ID.\n",
        "    \"\"\"\n",
        "    return self.df.loc[self.df['id'] == id]"
      ],
      "metadata": {
        "id": "s5MsALQX_47K"
      },
      "execution_count": null,
      "outputs": []
    },
    {
      "cell_type": "code",
      "source": [
        "random.seed(42)\n",
        "\n",
        "def split_dataframe(df, ratio):\n",
        "    # Shuffle the DataFrame\n",
        "    df_shuffled = df.sample(frac=1, random_state=42).reset_index(drop=True)\n",
        "\n",
        "    # Calculate the split index\n",
        "    split_index = int(len(df_shuffled) * ratio)\n",
        "\n",
        "    # Split the DataFrame\n",
        "    # df_1 = df_shuffled.iloc[:split_index]\n",
        "    df_2 = df_shuffled.iloc[split_index:] # unneeded for training\n",
        "\n",
        "    return df_2"
      ],
      "metadata": {
        "id": "U1daEXDhmTPy"
      },
      "execution_count": null,
      "outputs": []
    },
    {
      "cell_type": "code",
      "source": [
        "df_dict = {}"
      ],
      "metadata": {
        "id": "5yKBHPxjqa8_"
      },
      "execution_count": null,
      "outputs": []
    },
    {
      "cell_type": "code",
      "source": [
        "all_subdirectories = glob.glob(\n",
        "        f\"/content/drive/MyDrive/datasets/single_words/*\",\n",
        "        recursive=True\n",
        ")\n",
        "\n",
        "for i in tqdm.tqdm(range(len(all_subdirectories))):\n",
        "  path = all_subdirectories[i]\n",
        "  fruit_label = Path(path).name\n",
        "  ds = AudioDataset()\n",
        "  if ds.load_transcriptions(path):\n",
        "    df_dict[fruit_label] = split_dataframe(ds.df, 0.8)"
      ],
      "metadata": {
        "id": "dVwBCsJEqj8f",
        "outputId": "d91d6064-c14c-4482-98a7-0f595b9e798f",
        "colab": {
          "base_uri": "https://localhost:8080/"
        }
      },
      "execution_count": null,
      "outputs": [
        {
          "output_type": "stream",
          "name": "stderr",
          "text": [
            "100%|██████████| 30/30 [01:20<00:00,  2.70s/it]\n"
          ]
        }
      ]
    },
    {
      "cell_type": "code",
      "execution_count": null,
      "metadata": {
        "colab": {
          "base_uri": "https://localhost:8080/"
        },
        "id": "ZKy7iv3DWBZY",
        "outputId": "c432f42f-07fd-4502-9693-9b6f9277335e"
      },
      "outputs": [
        {
          "output_type": "execute_result",
          "data": {
            "text/plain": [
              "{'bed':         id                                               path transcription\n",
              " 0     1539  /content/drive/MyDrive/datasets/single_words/b...           bed\n",
              " 1      118  /content/drive/MyDrive/datasets/single_words/b...           bed\n",
              " 2     1452  /content/drive/MyDrive/datasets/single_words/b...           bed\n",
              " 3      342  /content/drive/MyDrive/datasets/single_words/b...           bed\n",
              " 4      869  /content/drive/MyDrive/datasets/single_words/b...           bed\n",
              " ...    ...                                                ...           ...\n",
              " 1080   218  /content/drive/MyDrive/datasets/single_words/b...           bed\n",
              " 1081   252  /content/drive/MyDrive/datasets/single_words/b...           bed\n",
              " 1082  1176  /content/drive/MyDrive/datasets/single_words/b...           bed\n",
              " 1083  1194  /content/drive/MyDrive/datasets/single_words/b...           bed\n",
              " 1084  1203  /content/drive/MyDrive/datasets/single_words/b...           bed\n",
              " \n",
              " [1085 rows x 3 columns],\n",
              " 'bird':         id                                               path transcription\n",
              " 0      882  /content/drive/MyDrive/datasets/single_words/b...          bird\n",
              " 1     1184  /content/drive/MyDrive/datasets/single_words/b...          bird\n",
              " 2      248  /content/drive/MyDrive/datasets/single_words/b...          bird\n",
              " 3      528  /content/drive/MyDrive/datasets/single_words/b...          bird\n",
              " 4     1869  /content/drive/MyDrive/datasets/single_words/b...          bird\n",
              " ...    ...                                                ...           ...\n",
              " 1071  1832  /content/drive/MyDrive/datasets/single_words/b...          bird\n",
              " 1072   391  /content/drive/MyDrive/datasets/single_words/b...          bird\n",
              " 1073  1324  /content/drive/MyDrive/datasets/single_words/b...          bird\n",
              " 1074  1516  /content/drive/MyDrive/datasets/single_words/b...          bird\n",
              " 1075  1243  /content/drive/MyDrive/datasets/single_words/b...          bird\n",
              " \n",
              " [1076 rows x 3 columns],\n",
              " 'cat':         id                                               path transcription\n",
              " 0       48  /content/drive/MyDrive/datasets/single_words/c...           cat\n",
              " 1      603  /content/drive/MyDrive/datasets/single_words/c...           cat\n",
              " 2     1289  /content/drive/MyDrive/datasets/single_words/c...           cat\n",
              " 3     1249  /content/drive/MyDrive/datasets/single_words/c...           cat\n",
              " 4      483  /content/drive/MyDrive/datasets/single_words/c...           cat\n",
              " ...    ...                                                ...           ...\n",
              " 1097  1149  /content/drive/MyDrive/datasets/single_words/c...           cat\n",
              " 1098  1278  /content/drive/MyDrive/datasets/single_words/c...           cat\n",
              " 1099  1217  /content/drive/MyDrive/datasets/single_words/c...           cat\n",
              " 1100     4  /content/drive/MyDrive/datasets/single_words/c...           cat\n",
              " 1101  1028  /content/drive/MyDrive/datasets/single_words/c...           cat\n",
              " \n",
              " [1102 rows x 3 columns],\n",
              " 'dog':         id                                               path transcription\n",
              " 0       71  /content/drive/MyDrive/datasets/single_words/d...           dog\n",
              " 1     1738  /content/drive/MyDrive/datasets/single_words/d...           dog\n",
              " 2     1303  /content/drive/MyDrive/datasets/single_words/d...           dog\n",
              " 3     1598  /content/drive/MyDrive/datasets/single_words/d...           dog\n",
              " 4      174  /content/drive/MyDrive/datasets/single_words/d...           dog\n",
              " ...    ...                                                ...           ...\n",
              " 1174   373  /content/drive/MyDrive/datasets/single_words/d...           dog\n",
              " 1175  1799  /content/drive/MyDrive/datasets/single_words/d...           dog\n",
              " 1176  1578  /content/drive/MyDrive/datasets/single_words/d...           dog\n",
              " 1177  1033  /content/drive/MyDrive/datasets/single_words/d...           dog\n",
              " 1178   366  /content/drive/MyDrive/datasets/single_words/d...           dog\n",
              " \n",
              " [1179 rows x 3 columns],\n",
              " 'down':        id                                               path transcription\n",
              " 0     142  /content/drive/MyDrive/datasets/single_words/d...          down\n",
              " 1    1247  /content/drive/MyDrive/datasets/single_words/d...          down\n",
              " 2     739  /content/drive/MyDrive/datasets/single_words/d...          down\n",
              " 3    1942  /content/drive/MyDrive/datasets/single_words/d...          down\n",
              " 4     507  /content/drive/MyDrive/datasets/single_words/d...          down\n",
              " ..    ...                                                ...           ...\n",
              " 945  1782  /content/drive/MyDrive/datasets/single_words/d...          down\n",
              " 946   128  /content/drive/MyDrive/datasets/single_words/d...          down\n",
              " 947   919  /content/drive/MyDrive/datasets/single_words/d...          down\n",
              " 948    52  /content/drive/MyDrive/datasets/single_words/d...          down\n",
              " 949  1174  /content/drive/MyDrive/datasets/single_words/d...          down\n",
              " \n",
              " [950 rows x 3 columns],\n",
              " 'eight':        id                                               path transcription\n",
              " 0     948  /content/drive/MyDrive/datasets/single_words/e...         eight\n",
              " 1     118  /content/drive/MyDrive/datasets/single_words/e...         eight\n",
              " 2     107  /content/drive/MyDrive/datasets/single_words/e...         eight\n",
              " 3     359  /content/drive/MyDrive/datasets/single_words/e...         eight\n",
              " 4    1222  /content/drive/MyDrive/datasets/single_words/e...         eight\n",
              " ..    ...                                                ...           ...\n",
              " 885  1431  /content/drive/MyDrive/datasets/single_words/e...         eight\n",
              " 886  1401  /content/drive/MyDrive/datasets/single_words/e...         eight\n",
              " 887   578  /content/drive/MyDrive/datasets/single_words/e...         eight\n",
              " 888   856  /content/drive/MyDrive/datasets/single_words/e...         eight\n",
              " 889   191  /content/drive/MyDrive/datasets/single_words/e...         eight\n",
              " \n",
              " [890 rows x 3 columns],\n",
              " 'five':        id                                               path transcription\n",
              " 0    1948  /content/drive/MyDrive/datasets/single_words/f...          five\n",
              " 1    1198  /content/drive/MyDrive/datasets/single_words/f...          five\n",
              " 2    1314  /content/drive/MyDrive/datasets/single_words/f...          five\n",
              " 3     739  /content/drive/MyDrive/datasets/single_words/f...          five\n",
              " 4    1729  /content/drive/MyDrive/datasets/single_words/f...          five\n",
              " ..    ...                                                ...           ...\n",
              " 868  1062  /content/drive/MyDrive/datasets/single_words/f...          five\n",
              " 869   424  /content/drive/MyDrive/datasets/single_words/f...          five\n",
              " 870  1588  /content/drive/MyDrive/datasets/single_words/f...          five\n",
              " 871  1084  /content/drive/MyDrive/datasets/single_words/f...          five\n",
              " 872   583  /content/drive/MyDrive/datasets/single_words/f...          five\n",
              " \n",
              " [873 rows x 3 columns],\n",
              " 'four':         id                                               path transcription\n",
              " 0     3282  /content/drive/MyDrive/datasets/single_words/f...          four\n",
              " 1      288  /content/drive/MyDrive/datasets/single_words/f...          four\n",
              " 2      242  /content/drive/MyDrive/datasets/single_words/f...          four\n",
              " 3     2351  /content/drive/MyDrive/datasets/single_words/f...          four\n",
              " 4      688  /content/drive/MyDrive/datasets/single_words/f...          four\n",
              " ...    ...                                                ...           ...\n",
              " 1916  3354  /content/drive/MyDrive/datasets/single_words/f...          four\n",
              " 1917  3078  /content/drive/MyDrive/datasets/single_words/f...          four\n",
              " 1918   649  /content/drive/MyDrive/datasets/single_words/f...          four\n",
              " 1919  3248  /content/drive/MyDrive/datasets/single_words/f...          four\n",
              " 1920  3063  /content/drive/MyDrive/datasets/single_words/f...          four\n",
              " \n",
              " [1921 rows x 3 columns],\n",
              " 'go':        id                                               path transcription\n",
              " 0     852  /content/drive/MyDrive/datasets/single_words/g...            go\n",
              " 1     349  /content/drive/MyDrive/datasets/single_words/g...            go\n",
              " 2    1477  /content/drive/MyDrive/datasets/single_words/g...            go\n",
              " 3     918  /content/drive/MyDrive/datasets/single_words/g...            go\n",
              " 4     957  /content/drive/MyDrive/datasets/single_words/g...            go\n",
              " ..    ...                                                ...           ...\n",
              " 763   813  /content/drive/MyDrive/datasets/single_words/g...            go\n",
              " 764   564  /content/drive/MyDrive/datasets/single_words/g...            go\n",
              " 765   807  /content/drive/MyDrive/datasets/single_words/g...            go\n",
              " 766   454  /content/drive/MyDrive/datasets/single_words/g...            go\n",
              " 767   951  /content/drive/MyDrive/datasets/single_words/g...            go\n",
              " \n",
              " [768 rows x 3 columns],\n",
              " 'happy':         id                                               path transcription\n",
              " 0      789  /content/drive/MyDrive/datasets/single_words/h...         happy\n",
              " 1       22  /content/drive/MyDrive/datasets/single_words/h...         happy\n",
              " 2      588  /content/drive/MyDrive/datasets/single_words/h...         happy\n",
              " 3     2179  /content/drive/MyDrive/datasets/single_words/h...         happy\n",
              " 4      433  /content/drive/MyDrive/datasets/single_words/h...         happy\n",
              " ...    ...                                                ...           ...\n",
              " 1187  1098  /content/drive/MyDrive/datasets/single_words/h...         happy\n",
              " 1188   678  /content/drive/MyDrive/datasets/single_words/h...         happy\n",
              " 1189  1699  /content/drive/MyDrive/datasets/single_words/h...         happy\n",
              " 1190  2058  /content/drive/MyDrive/datasets/single_words/h...         happy\n",
              " 1191   113  /content/drive/MyDrive/datasets/single_words/h...         happy\n",
              " \n",
              " [1192 rows x 3 columns],\n",
              " 'house':         id                                               path transcription\n",
              " 0     2693  /content/drive/MyDrive/datasets/single_words/h...         house\n",
              " 1     1422  /content/drive/MyDrive/datasets/single_words/h...         house\n",
              " 2      253  /content/drive/MyDrive/datasets/single_words/h...         house\n",
              " 3     1144  /content/drive/MyDrive/datasets/single_words/h...         house\n",
              " 4     1482  /content/drive/MyDrive/datasets/single_words/h...         house\n",
              " ...    ...                                                ...           ...\n",
              " 1639    44  /content/drive/MyDrive/datasets/single_words/h...         house\n",
              " 1640  1402  /content/drive/MyDrive/datasets/single_words/h...         house\n",
              " 1641  1273  /content/drive/MyDrive/datasets/single_words/h...         house\n",
              " 1642  1527  /content/drive/MyDrive/datasets/single_words/h...         house\n",
              " 1643   177  /content/drive/MyDrive/datasets/single_words/h...         house\n",
              " \n",
              " [1644 rows x 3 columns],\n",
              " 'left':         id                                               path transcription\n",
              " 0     1464  /content/drive/MyDrive/datasets/single_words/l...          left\n",
              " 1      789  /content/drive/MyDrive/datasets/single_words/l...          left\n",
              " 2     2373  /content/drive/MyDrive/datasets/single_words/l...          left\n",
              " 3      332  /content/drive/MyDrive/datasets/single_words/l...          left\n",
              " 4     2372  /content/drive/MyDrive/datasets/single_words/l...          left\n",
              " ...    ...                                                ...           ...\n",
              " 1183   108  /content/drive/MyDrive/datasets/single_words/l...          left\n",
              " 1184  2437  /content/drive/MyDrive/datasets/single_words/l...          left\n",
              " 1185  1914  /content/drive/MyDrive/datasets/single_words/l...          left\n",
              " 1186  1728  /content/drive/MyDrive/datasets/single_words/l...          left\n",
              " 1187   109  /content/drive/MyDrive/datasets/single_words/l...          left\n",
              " \n",
              " [1188 rows x 3 columns],\n",
              " 'marvel':        id                                               path transcription\n",
              " 0    1628  /content/drive/MyDrive/datasets/single_words/m...        marvel\n",
              " 1    1409  /content/drive/MyDrive/datasets/single_words/m...        marvel\n",
              " 2     479  /content/drive/MyDrive/datasets/single_words/m...        marvel\n",
              " 3    2133  /content/drive/MyDrive/datasets/single_words/m...        marvel\n",
              " 4     179  /content/drive/MyDrive/datasets/single_words/m...        marvel\n",
              " ..    ...                                                ...           ...\n",
              " 939  1757  /content/drive/MyDrive/datasets/single_words/m...        marvel\n",
              " 940  1613  /content/drive/MyDrive/datasets/single_words/m...        marvel\n",
              " 941   962  /content/drive/MyDrive/datasets/single_words/m...        marvel\n",
              " 942  1673  /content/drive/MyDrive/datasets/single_words/m...        marvel\n",
              " 943  1027  /content/drive/MyDrive/datasets/single_words/m...        marvel\n",
              " \n",
              " [944 rows x 3 columns],\n",
              " 'nine':       id                                               path transcription\n",
              " 0    844  /content/drive/MyDrive/datasets/single_words/n...          nine\n",
              " 1    989  /content/drive/MyDrive/datasets/single_words/n...          nine\n",
              " 2    389  /content/drive/MyDrive/datasets/single_words/n...          nine\n",
              " 3     34  /content/drive/MyDrive/datasets/single_words/n...          nine\n",
              " 4    914  /content/drive/MyDrive/datasets/single_words/n...          nine\n",
              " ..   ...                                                ...           ...\n",
              " 468  474  /content/drive/MyDrive/datasets/single_words/n...          nine\n",
              " 469  434  /content/drive/MyDrive/datasets/single_words/n...          nine\n",
              " 470   19  /content/drive/MyDrive/datasets/single_words/n...          nine\n",
              " 471  463  /content/drive/MyDrive/datasets/single_words/n...          nine\n",
              " 472  938  /content/drive/MyDrive/datasets/single_words/n...          nine\n",
              " \n",
              " [473 rows x 3 columns],\n",
              " 'no':        id                                               path transcription\n",
              " 0    1359  /content/drive/MyDrive/datasets/single_words/n...            no\n",
              " 1     699  /content/drive/MyDrive/datasets/single_words/n...            no\n",
              " 2     129  /content/drive/MyDrive/datasets/single_words/n...            no\n",
              " 3    1453  /content/drive/MyDrive/datasets/single_words/n...            no\n",
              " 4    1254  /content/drive/MyDrive/datasets/single_words/n...            no\n",
              " ..    ...                                                ...           ...\n",
              " 759   812  /content/drive/MyDrive/datasets/single_words/n...            no\n",
              " 760   912  /content/drive/MyDrive/datasets/single_words/n...            no\n",
              " 761   149  /content/drive/MyDrive/datasets/single_words/n...            no\n",
              " 762   976  /content/drive/MyDrive/datasets/single_words/n...            no\n",
              " 763   663  /content/drive/MyDrive/datasets/single_words/n...            no\n",
              " \n",
              " [764 rows x 3 columns],\n",
              " 'off':        id                                               path transcription\n",
              " 0     353  /content/drive/MyDrive/datasets/single_words/o...           off\n",
              " 1    1039  /content/drive/MyDrive/datasets/single_words/o...           off\n",
              " 2     504  /content/drive/MyDrive/datasets/single_words/o...           off\n",
              " 3     387  /content/drive/MyDrive/datasets/single_words/o...           off\n",
              " 4     708  /content/drive/MyDrive/datasets/single_words/o...           off\n",
              " ..    ...                                                ...           ...\n",
              " 627   327  /content/drive/MyDrive/datasets/single_words/o...           off\n",
              " 628    92  /content/drive/MyDrive/datasets/single_words/o...           off\n",
              " 629   814  /content/drive/MyDrive/datasets/single_words/o...           off\n",
              " 630    62  /content/drive/MyDrive/datasets/single_words/o...           off\n",
              " 631   437  /content/drive/MyDrive/datasets/single_words/o...           off\n",
              " \n",
              " [632 rows x 3 columns],\n",
              " 'on':        id                                               path transcription\n",
              " 0     389  /content/drive/MyDrive/datasets/single_words/o...            on\n",
              " 1    1367  /content/drive/MyDrive/datasets/single_words/o...            on\n",
              " 2     489  /content/drive/MyDrive/datasets/single_words/o...            on\n",
              " 3    1331  /content/drive/MyDrive/datasets/single_words/o...            on\n",
              " 4     967  /content/drive/MyDrive/datasets/single_words/o...            on\n",
              " ..    ...                                                ...           ...\n",
              " 923  1453  /content/drive/MyDrive/datasets/single_words/o...            on\n",
              " 924   739  /content/drive/MyDrive/datasets/single_words/o...            on\n",
              " 925  1366  /content/drive/MyDrive/datasets/single_words/o...            on\n",
              " 926   698  /content/drive/MyDrive/datasets/single_words/o...            on\n",
              " 927   661  /content/drive/MyDrive/datasets/single_words/o...            on\n",
              " \n",
              " [928 rows x 3 columns],\n",
              " 'one':        id                                               path transcription\n",
              " 0    1152  /content/drive/MyDrive/datasets/single_words/o...           one\n",
              " 1    1028  /content/drive/MyDrive/datasets/single_words/o...           one\n",
              " 2     269  /content/drive/MyDrive/datasets/single_words/o...           one\n",
              " 3    1478  /content/drive/MyDrive/datasets/single_words/o...           one\n",
              " 4    1287  /content/drive/MyDrive/datasets/single_words/o...           one\n",
              " ..    ...                                                ...           ...\n",
              " 787  1539  /content/drive/MyDrive/datasets/single_words/o...           one\n",
              " 788   844  /content/drive/MyDrive/datasets/single_words/o...           one\n",
              " 789   352  /content/drive/MyDrive/datasets/single_words/o...           one\n",
              " 790   784  /content/drive/MyDrive/datasets/single_words/o...           one\n",
              " 791     4  /content/drive/MyDrive/datasets/single_words/o...           one\n",
              " \n",
              " [792 rows x 3 columns],\n",
              " 'right':       id                                               path transcription\n",
              " 0    553  /content/drive/MyDrive/datasets/single_words/r...         right\n",
              " 1    284  /content/drive/MyDrive/datasets/single_words/r...         right\n",
              " 2    748  /content/drive/MyDrive/datasets/single_words/r...         right\n",
              " 3    964  /content/drive/MyDrive/datasets/single_words/r...         right\n",
              " 4    452  /content/drive/MyDrive/datasets/single_words/r...         right\n",
              " ..   ...                                                ...           ...\n",
              " 531  389  /content/drive/MyDrive/datasets/single_words/r...         right\n",
              " 532  973  /content/drive/MyDrive/datasets/single_words/r...         right\n",
              " 533  827  /content/drive/MyDrive/datasets/single_words/r...         right\n",
              " 534  739  /content/drive/MyDrive/datasets/single_words/r...         right\n",
              " 535  573  /content/drive/MyDrive/datasets/single_words/r...         right\n",
              " \n",
              " [536 rows x 3 columns],\n",
              " 'seven':        id                                               path transcription\n",
              " 0    1088  /content/drive/MyDrive/datasets/single_words/s...         seven\n",
              " 1    1977  /content/drive/MyDrive/datasets/single_words/s...         seven\n",
              " 2     538  /content/drive/MyDrive/datasets/single_words/s...         seven\n",
              " 3    1398  /content/drive/MyDrive/datasets/single_words/s...         seven\n",
              " 4    1228  /content/drive/MyDrive/datasets/single_words/s...         seven\n",
              " ..    ...                                                ...           ...\n",
              " 913  1167  /content/drive/MyDrive/datasets/single_words/s...         seven\n",
              " 914   258  /content/drive/MyDrive/datasets/single_words/s...         seven\n",
              " 915   709  /content/drive/MyDrive/datasets/single_words/s...         seven\n",
              " 916  1759  /content/drive/MyDrive/datasets/single_words/s...         seven\n",
              " 917   308  /content/drive/MyDrive/datasets/single_words/s...         seven\n",
              " \n",
              " [918 rows x 3 columns],\n",
              " 'sheila':        id                                               path transcription\n",
              " 0    1773  /content/drive/MyDrive/datasets/single_words/s...        sheila\n",
              " 1     378  /content/drive/MyDrive/datasets/single_words/s...        sheila\n",
              " 2      99  /content/drive/MyDrive/datasets/single_words/s...        sheila\n",
              " 3     174  /content/drive/MyDrive/datasets/single_words/s...        sheila\n",
              " 4     462  /content/drive/MyDrive/datasets/single_words/s...        sheila\n",
              " ..    ...                                                ...           ...\n",
              " 963    77  /content/drive/MyDrive/datasets/single_words/s...        sheila\n",
              " 964   862  /content/drive/MyDrive/datasets/single_words/s...        sheila\n",
              " 965  1392  /content/drive/MyDrive/datasets/single_words/s...        sheila\n",
              " 966  1943  /content/drive/MyDrive/datasets/single_words/s...        sheila\n",
              " 967   292  /content/drive/MyDrive/datasets/single_words/s...        sheila\n",
              " \n",
              " [968 rows x 3 columns],\n",
              " 'six':         id                                               path transcription\n",
              " 0      157  /content/drive/MyDrive/datasets/single_words/s...           six\n",
              " 1     1979  /content/drive/MyDrive/datasets/single_words/s...           six\n",
              " 2      803  /content/drive/MyDrive/datasets/single_words/s...           six\n",
              " 3      564  /content/drive/MyDrive/datasets/single_words/s...           six\n",
              " 4     1342  /content/drive/MyDrive/datasets/single_words/s...           six\n",
              " ...    ...                                                ...           ...\n",
              " 1045   539  /content/drive/MyDrive/datasets/single_words/s...           six\n",
              " 1046  1537  /content/drive/MyDrive/datasets/single_words/s...           six\n",
              " 1047  2043  /content/drive/MyDrive/datasets/single_words/s...           six\n",
              " 1048   347  /content/drive/MyDrive/datasets/single_words/s...           six\n",
              " 1049  1332  /content/drive/MyDrive/datasets/single_words/s...           six\n",
              " \n",
              " [1050 rows x 3 columns],\n",
              " 'stop':        id                                               path transcription\n",
              " 0     892  /content/drive/MyDrive/datasets/single_words/s...          stop\n",
              " 1    1662  /content/drive/MyDrive/datasets/single_words/s...          stop\n",
              " 2    1497  /content/drive/MyDrive/datasets/single_words/s...          stop\n",
              " 3    1939  /content/drive/MyDrive/datasets/single_words/s...          stop\n",
              " 4     474  /content/drive/MyDrive/datasets/single_words/s...          stop\n",
              " ..    ...                                                ...           ...\n",
              " 987   364  /content/drive/MyDrive/datasets/single_words/s...          stop\n",
              " 988  1119  /content/drive/MyDrive/datasets/single_words/s...          stop\n",
              " 989   224  /content/drive/MyDrive/datasets/single_words/s...          stop\n",
              " 990  1669  /content/drive/MyDrive/datasets/single_words/s...          stop\n",
              " 991  1398  /content/drive/MyDrive/datasets/single_words/s...          stop\n",
              " \n",
              " [992 rows x 3 columns],\n",
              " 'three':        id                                               path transcription\n",
              " 0    1653  /content/drive/MyDrive/datasets/single_words/t...         three\n",
              " 1    1287  /content/drive/MyDrive/datasets/single_words/t...         three\n",
              " 2     994  /content/drive/MyDrive/datasets/single_words/t...         three\n",
              " 3    1603  /content/drive/MyDrive/datasets/single_words/t...         three\n",
              " 4     664  /content/drive/MyDrive/datasets/single_words/t...         three\n",
              " ..    ...                                                ...           ...\n",
              " 945  1194  /content/drive/MyDrive/datasets/single_words/t...         three\n",
              " 946  1593  /content/drive/MyDrive/datasets/single_words/t...         three\n",
              " 947   914  /content/drive/MyDrive/datasets/single_words/t...         three\n",
              " 948   508  /content/drive/MyDrive/datasets/single_words/t...         three\n",
              " 949   118  /content/drive/MyDrive/datasets/single_words/t...         three\n",
              " \n",
              " [950 rows x 3 columns],\n",
              " 'tree':        id                                               path transcription\n",
              " 0    1782  /content/drive/MyDrive/datasets/single_words/t...          tree\n",
              " 1     913  /content/drive/MyDrive/datasets/single_words/t...          tree\n",
              " 2    1099  /content/drive/MyDrive/datasets/single_words/t...          tree\n",
              " 3    1422  /content/drive/MyDrive/datasets/single_words/t...          tree\n",
              " 4     962  /content/drive/MyDrive/datasets/single_words/t...          tree\n",
              " ..    ...                                                ...           ...\n",
              " 942   779  /content/drive/MyDrive/datasets/single_words/t...          tree\n",
              " 943  1387  /content/drive/MyDrive/datasets/single_words/t...          tree\n",
              " 944  1887  /content/drive/MyDrive/datasets/single_words/t...          tree\n",
              " 945  1902  /content/drive/MyDrive/datasets/single_words/t...          tree\n",
              " 946   459  /content/drive/MyDrive/datasets/single_words/t...          tree\n",
              " \n",
              " [947 rows x 3 columns],\n",
              " 'two':        id                                               path transcription\n",
              " 0      23  /content/drive/MyDrive/datasets/single_words/t...           two\n",
              " 1     203  /content/drive/MyDrive/datasets/single_words/t...           two\n",
              " 2     512  /content/drive/MyDrive/datasets/single_words/t...           two\n",
              " 3    1434  /content/drive/MyDrive/datasets/single_words/t...           two\n",
              " 4     152  /content/drive/MyDrive/datasets/single_words/t...           two\n",
              " ..    ...                                                ...           ...\n",
              " 716   603  /content/drive/MyDrive/datasets/single_words/t...           two\n",
              " 717   867  /content/drive/MyDrive/datasets/single_words/t...           two\n",
              " 718   824  /content/drive/MyDrive/datasets/single_words/t...           two\n",
              " 719   874  /content/drive/MyDrive/datasets/single_words/t...           two\n",
              " 720   838  /content/drive/MyDrive/datasets/single_words/t...           two\n",
              " \n",
              " [721 rows x 3 columns],\n",
              " 'up':        id                                               path transcription\n",
              " 0     623  /content/drive/MyDrive/datasets/single_words/u...            up\n",
              " 1     451  /content/drive/MyDrive/datasets/single_words/u...            up\n",
              " 2     169  /content/drive/MyDrive/datasets/single_words/u...            up\n",
              " 3     784  /content/drive/MyDrive/datasets/single_words/u...            up\n",
              " 4    1017  /content/drive/MyDrive/datasets/single_words/u...            up\n",
              " ..    ...                                                ...           ...\n",
              " 674   412  /content/drive/MyDrive/datasets/single_words/u...            up\n",
              " 675    61  /content/drive/MyDrive/datasets/single_words/u...            up\n",
              " 676   767  /content/drive/MyDrive/datasets/single_words/u...            up\n",
              " 677   977  /content/drive/MyDrive/datasets/single_words/u...            up\n",
              " 678   946  /content/drive/MyDrive/datasets/single_words/u...            up\n",
              " \n",
              " [679 rows x 3 columns],\n",
              " 'wow':       id                                               path transcription\n",
              " 0    618  /content/drive/MyDrive/datasets/single_words/w...           wow\n",
              " 1    689  /content/drive/MyDrive/datasets/single_words/w...           wow\n",
              " 2    463  /content/drive/MyDrive/datasets/single_words/w...           wow\n",
              " 3    429  /content/drive/MyDrive/datasets/single_words/w...           wow\n",
              " 4    327  /content/drive/MyDrive/datasets/single_words/w...           wow\n",
              " ..   ...                                                ...           ...\n",
              " 724  953  /content/drive/MyDrive/datasets/single_words/w...           wow\n",
              " 725  553  /content/drive/MyDrive/datasets/single_words/w...           wow\n",
              " 726  594  /content/drive/MyDrive/datasets/single_words/w...           wow\n",
              " 727  589  /content/drive/MyDrive/datasets/single_words/w...           wow\n",
              " 728  847  /content/drive/MyDrive/datasets/single_words/w...           wow\n",
              " \n",
              " [729 rows x 3 columns],\n",
              " 'yes':       id                                               path transcription\n",
              " 0    944  /content/drive/MyDrive/datasets/single_words/y...           yes\n",
              " 1    444  /content/drive/MyDrive/datasets/single_words/y...           yes\n",
              " 2    564  /content/drive/MyDrive/datasets/single_words/y...           yes\n",
              " 3    769  /content/drive/MyDrive/datasets/single_words/y...           yes\n",
              " 4    862  /content/drive/MyDrive/datasets/single_words/y...           yes\n",
              " ..   ...                                                ...           ...\n",
              " 535  598  /content/drive/MyDrive/datasets/single_words/y...           yes\n",
              " 536  379  /content/drive/MyDrive/datasets/single_words/y...           yes\n",
              " 537  958  /content/drive/MyDrive/datasets/single_words/y...           yes\n",
              " 538  878  /content/drive/MyDrive/datasets/single_words/y...           yes\n",
              " 539  708  /content/drive/MyDrive/datasets/single_words/y...           yes\n",
              " \n",
              " [540 rows x 3 columns],\n",
              " 'zero':        id                                               path transcription\n",
              " 0     337  /content/drive/MyDrive/datasets/single_words/z...          zero\n",
              " 1     872  /content/drive/MyDrive/datasets/single_words/z...          zero\n",
              " 2    2074  /content/drive/MyDrive/datasets/single_words/z...          zero\n",
              " 3    1528  /content/drive/MyDrive/datasets/single_words/z...          zero\n",
              " 4     573  /content/drive/MyDrive/datasets/single_words/z...          zero\n",
              " ..    ...                                                ...           ...\n",
              " 899  1004  /content/drive/MyDrive/datasets/single_words/z...          zero\n",
              " 900   443  /content/drive/MyDrive/datasets/single_words/z...          zero\n",
              " 901  2014  /content/drive/MyDrive/datasets/single_words/z...          zero\n",
              " 902   363  /content/drive/MyDrive/datasets/single_words/z...          zero\n",
              " 903  1402  /content/drive/MyDrive/datasets/single_words/z...          zero\n",
              " \n",
              " [904 rows x 3 columns]}"
            ]
          },
          "metadata": {},
          "execution_count": 9
        }
      ],
      "source": [
        "df_dict"
      ]
    },
    {
      "cell_type": "code",
      "source": [
        "sample_df = df_dict['bed']\n",
        "sample_input_file = sample_df['path'].iloc[0]\n",
        "print(\"Selected input file: \", sample_input_file)"
      ],
      "metadata": {
        "id": "4FhZYcC5_6XN",
        "outputId": "0fcf164a-1661-46dc-da2d-a2a56513b6df",
        "colab": {
          "base_uri": "https://localhost:8080/"
        }
      },
      "execution_count": null,
      "outputs": [
        {
          "output_type": "stream",
          "name": "stdout",
          "text": [
            "Selected input file:  /content/drive/MyDrive/datasets/single_words/bed/1539.wav\n"
          ]
        }
      ]
    },
    {
      "cell_type": "code",
      "source": [
        "audio, sampling_freq = librosa.load(sample_input_file)\n",
        "pd.Series(audio).plot(figsize=(10, 5),lw=1, title=\"Audio signal\", xlabel=\"Time\", ylabel=\"Amplitude\")"
      ],
      "metadata": {
        "id": "tCwPqPqkATIA",
        "outputId": "5a836361-1371-44d9-ee53-d445b837a326",
        "colab": {
          "base_uri": "https://localhost:8080/",
          "height": 505
        }
      },
      "execution_count": null,
      "outputs": [
        {
          "output_type": "execute_result",
          "data": {
            "text/plain": [
              "<Axes: title={'center': 'Audio signal'}, xlabel='Time', ylabel='Amplitude'>"
            ]
          },
          "metadata": {},
          "execution_count": 11
        },
        {
          "output_type": "display_data",
          "data": {
            "text/plain": [
              "<Figure size 1000x500 with 1 Axes>"
            ],
            "image/png": "[encoded data removed]"
          },
          "metadata": {}
        }
      ]
    },
    {
      "cell_type": "code",
      "source": [
        "fft = np.fft.fft(audio)\n",
        "\n",
        "magnitude = np.abs(fft)\n",
        "frequency = np.linspace(0, sampling_freq, len(magnitude))\n",
        "\n",
        "left_freq = frequency[:int(len(frequency)/2)]\n",
        "left_mag = magnitude[:int(len(frequency)/2)]\n",
        "\n",
        "plt.plot(left_freq, left_mag)\n",
        "plt.xlabel(\"Frequency\")\n",
        "plt.ylabel(\"Amplitude\")\n",
        "plt.title(\"Power Spectrum\")"
      ],
      "metadata": {
        "id": "VIFu6OHF6_Kq",
        "outputId": "2cef6cff-55d2-47ca-d84f-e589aa93a88b",
        "colab": {
          "base_uri": "https://localhost:8080/",
          "height": 490
        }
      },
      "execution_count": null,
      "outputs": [
        {
          "output_type": "execute_result",
          "data": {
            "text/plain": [
              "Text(0.5, 1.0, 'Power Spectrum')"
            ]
          },
          "metadata": {},
          "execution_count": 12
        },
        {
          "output_type": "display_data",
          "data": {
            "text/plain": [
              "<Figure size 640x480 with 1 Axes>"
            ],
            "image/png": "[encoded data removed]"
          },
          "metadata": {}
        }
      ]
    },
    {
      "cell_type": "code",
      "source": [
        "n_fft = 2048\n",
        "hop_length = 512\n",
        "\n",
        "stft = librosa.core.stft(audio, hop_length=hop_length, n_fft=n_fft)\n",
        "spectrogram = np.abs(stft)\n",
        "\n",
        "log_spectrogram = librosa.amplitude_to_db(spectrogram)\n",
        "\n",
        "librosa.display.specshow(log_spectrogram, sr=sampling_freq, hop_length=hop_length)\n",
        "plt.xlabel(\"Time\")\n",
        "plt.ylabel(\"Frequency\")\n",
        "plt.colorbar()\n",
        "plt.show()\n"
      ],
      "metadata": {
        "id": "fC-c-NIi9qFv",
        "outputId": "605915fc-eae0-4a41-879c-d1a712583f93",
        "colab": {
          "base_uri": "https://localhost:8080/",
          "height": 426
        }
      },
      "execution_count": null,
      "outputs": [
        {
          "output_type": "display_data",
          "data": {
            "text/plain": [
              "<Figure size 640x480 with 2 Axes>"
            ],
            "image/png": "[encoded data removed]"
          },
          "metadata": {}
        }
      ]
    },
    {
      "cell_type": "code",
      "source": [
        "mfccs = librosa.feature.mfcc(y=audio, n_fft=n_fft, hop_length=hop_length, n_mfcc=15)\n",
        "librosa.display.specshow(mfccs, sr=sampling_freq, hop_length=hop_length)\n",
        "plt.xlabel(\"Time\")\n",
        "plt.ylabel(\"MFCC\")\n",
        "plt.colorbar()\n",
        "plt.show()"
      ],
      "metadata": {
        "id": "7mcrgK2n9xSJ",
        "outputId": "36f863d0-9245-4f87-c660-eb514e30a4e0",
        "colab": {
          "base_uri": "https://localhost:8080/",
          "height": 426
        }
      },
      "execution_count": null,
      "outputs": [
        {
          "output_type": "display_data",
          "data": {
            "text/plain": [
              "<Figure size 640x480 with 2 Axes>"
            ],
            "image/png": "[encoded data removed]"
          },
          "metadata": {}
        }
      ]
    },
    {
      "cell_type": "markdown",
      "metadata": {
        "id": "vUEkvJCdpukC"
      },
      "source": [
        "### Extracting Features"
      ]
    },
    {
      "cell_type": "code",
      "execution_count": null,
      "metadata": {
        "id": "Xn_bykkYrAsW"
      },
      "outputs": [],
      "source": [
        "# from librosa.feature import mfcc\n",
        "# import librosa\n",
        "# audio, sampling_freq = librosa.load(ds.df.head()['path'].values[0])\n",
        "# mfcc_features = librosa.feature.mfcc(sr=sampling_freq, y=audio)\n",
        "# print('\\nNumber of windows =', mfcc_features.shape[0])\n",
        "# print('Length of each feature =', mfcc_features.shape[1])"
      ]
    },
    {
      "cell_type": "code",
      "execution_count": null,
      "metadata": {
        "id": "K6xerVMEP_U2"
      },
      "outputs": [],
      "source": [
        "# mfcc_features = mfcc_features.T\n",
        "# plt.matshow(mfcc_features)\n",
        "# plt.title('MFCC')"
      ]
    },
    {
      "cell_type": "code",
      "execution_count": null,
      "metadata": {
        "colab": {
          "base_uri": "https://localhost:8080/"
        },
        "id": "B9BvQpBmmA-_",
        "outputId": "78fb51ff-939b-4516-926f-53593de90c89"
      },
      "outputs": [
        {
          "output_type": "stream",
          "name": "stdout",
          "text": [
            "Requirement already satisfied: hmmlearn in /usr/local/lib/python3.10/dist-packages (0.3.2)\n",
            "Requirement already satisfied: numpy>=1.10 in /usr/local/lib/python3.10/dist-packages (from hmmlearn) (1.25.2)\n",
            "Requirement already satisfied: scikit-learn!=0.22.0,>=0.16 in /usr/local/lib/python3.10/dist-packages (from hmmlearn) (1.2.2)\n",
            "Requirement already satisfied: scipy>=0.19 in /usr/local/lib/python3.10/dist-packages (from hmmlearn) (1.11.4)\n",
            "Requirement already satisfied: joblib>=1.1.1 in /usr/local/lib/python3.10/dist-packages (from scikit-learn!=0.22.0,>=0.16->hmmlearn) (1.3.2)\n",
            "Requirement already satisfied: threadpoolctl>=2.0.0 in /usr/local/lib/python3.10/dist-packages (from scikit-learn!=0.22.0,>=0.16->hmmlearn) (3.4.0)\n",
            "Requirement already satisfied: features in /usr/local/lib/python3.10/dist-packages (0.5.12)\n",
            "Requirement already satisfied: concepts~=0.7 in /usr/local/lib/python3.10/dist-packages (from features) (0.9.2)\n",
            "Requirement already satisfied: fileconfig~=0.5 in /usr/local/lib/python3.10/dist-packages (from features) (0.6.1)\n",
            "Requirement already satisfied: graphviz~=0.7 in /usr/local/lib/python3.10/dist-packages (from features) (0.20.3)\n",
            "Requirement already satisfied: bitsets~=0.7 in /usr/local/lib/python3.10/dist-packages (from concepts~=0.7->features) (0.8.4)\n"
          ]
        }
      ],
      "source": [
        "!pip install hmmlearn\n",
        "!pip install features"
      ]
    },
    {
      "cell_type": "code",
      "execution_count": null,
      "metadata": {
        "id": "_H-mpoRAmDd6"
      },
      "outputs": [],
      "source": [
        "import os\n",
        "import numpy as np\n",
        "from scipy.io import wavfile\n",
        "from hmmlearn import hmm #importing GaussianHMM\n",
        "import librosa # reading wavefilesfrom librosa.feature import mfcc #to extract mfcc features"
      ]
    },
    {
      "cell_type": "code",
      "execution_count": null,
      "metadata": {
        "id": "e9pLjDWuQtqI"
      },
      "outputs": [],
      "source": [
        "class HMMTrainer(object):\n",
        "  def __init__(self, model_name='GaussianHMM', n_components=4):\n",
        "     self.model_name = model_name\n",
        "     self.n_components = n_components\n",
        "\n",
        "     self.models = []\n",
        "     if self.model_name == 'GaussianHMM':\n",
        "        self.model=hmm.GaussianHMM(n_components=4)\n",
        "     else:\n",
        "        print(\"Please choose GaussianHMM\")\n",
        "\n",
        "  def train(self, X):\n",
        "      self.models.append(self.model.fit(X))\n",
        "\n",
        "  def get_score(self, input_data):\n",
        "      return self.model.score(input_data)"
      ]
    },
    {
      "cell_type": "code",
      "source": [
        "# We split the datasets into 2 part to increase the training process.\n",
        "# Can find the full model for HMM in github name hmm_model.pkl\n",
        "hmm_models = []\n",
        "\n",
        "items = list(df_dict.items())\n",
        "CAP = len(items)\n",
        "MID_POINT = CAP // 2\n",
        "\n",
        "\n",
        "items = list(df_dict.items())\n",
        "for i in tqdm.tqdm(range(MID_POINT, CAP)):\n",
        "  df = items[i]\n",
        "  fruit_label = df[0]\n",
        "  X = np.array([])\n",
        "  for index, row in df[1].head(250).iterrows():\n",
        "    # Read the input file\n",
        "    audio, sampling_freq = librosa.load(row['path'])\n",
        "    # Extract MFCC features\n",
        "    mfcc_features = librosa.feature.mfcc(sr=sampling_freq, y=audio)\n",
        "    # Append to the variable X\n",
        "    if len(X) == 0:\n",
        "      X = mfcc_features[:, :15]  # 15 here denotes the number of MFCC coefficients to consider\n",
        "    else:\n",
        "      X = np.append(X, mfcc_features[:, :15], axis=0)\n",
        "    # Append the label\n",
        "    # print('X.shape =', X.shape)\n",
        "\n",
        "  # Train HMM model for this iteration\n",
        "  hmm_trainer = HMMTrainer()\n",
        "  hmm_trainer.train(X)  # Train using the current MFCC features\n",
        "  hmm_models.append((hmm_trainer, fruit_label))\n"
      ],
      "metadata": {
        "id": "sd7pFP7Bs5i0",
        "outputId": "a00c0210-ed8d-443b-cd82-cd9f21a463db",
        "colab": {
          "base_uri": "https://localhost:8080/"
        }
      },
      "execution_count": null,
      "outputs": [
        {
          "output_type": "stream",
          "name": "stderr",
          "text": [
            "100%|██████████| 15/15 [22:20<00:00, 89.38s/it]\n"
          ]
        }
      ]
    },
    {
      "cell_type": "code",
      "source": [
        "from joblib import Parallel, delayed\n",
        "import multiprocessing\n",
        "\n",
        "def train_model(num: int):\n",
        "  items = list(df_dict.items())\n",
        "  for i in tqdm.tqdm(range(MID_POINT, CAP)):\n",
        "    df = items[i]\n",
        "    fruit_label = df[0]\n",
        "    X = np.array([])\n",
        "    for index, row in df[1].head(250).iterrows():\n",
        "      # Read the input file\n",
        "      audio, sampling_freq = librosa.load(row['path'])\n",
        "      # Extract MFCC features\n",
        "      mfcc_features = librosa.feature.mfcc(sr=sampling_freq, y=audio)\n",
        "      # Append to the variable X\n",
        "      if len(X) == 0:\n",
        "        X = mfcc_features[:, :15]  # 15 here denotes the number of MFCC coefficients to consider\n",
        "      else:\n",
        "        X = np.append(X, mfcc_features[:, :15], axis=0)\n",
        "\n",
        "    # Train HMM model for this iteration\n",
        "    hmm_trainer = HMMTrainer()\n",
        "    hmm_trainer.train(X)  # Train using the current MFCC features\n",
        "    hmm_models.append((hmm_trainer, fruit_label))\n",
        "\n",
        "num_cores = multiprocessing.cpu_count()\n",
        "print(num_cores)\n",
        "results = Parallel(n_jobs=num_cores)(delayed(add_three)(i) for i in range(10))\n",
        "results"
      ],
      "metadata": {
        "id": "iN5XnTTg3PW-"
      },
      "execution_count": null,
      "outputs": []
    },
    {
      "cell_type": "code",
      "source": [
        "print(len(hmm_models))"
      ],
      "metadata": {
        "id": "sE3dUaKwuQEZ",
        "colab": {
          "base_uri": "https://localhost:8080/"
        },
        "outputId": "2e32a4d5-56b6-438d-f263-178e1074da54"
      },
      "execution_count": null,
      "outputs": [
        {
          "output_type": "stream",
          "name": "stdout",
          "text": [
            "15\n"
          ]
        }
      ]
    },
    {
      "cell_type": "code",
      "source": [
        "test_files = {}\n",
        "\n",
        "for df in df_dict.items():\n",
        "  truth_label = df[0]\n",
        "  selected_test = df[1].iloc[-1,:]\n",
        "  test_files[truth_label] = selected_test['path']"
      ],
      "metadata": {
        "id": "Ye6wJvkau7wf"
      },
      "execution_count": null,
      "outputs": []
    },
    {
      "cell_type": "code",
      "source": [
        "print(test_files)"
      ],
      "metadata": {
        "id": "edSWkOzbvXXZ",
        "colab": {
          "base_uri": "https://localhost:8080/"
        },
        "outputId": "a6f072f7-a08e-4c81-ecce-2c1d85622990"
      },
      "execution_count": null,
      "outputs": [
        {
          "output_type": "stream",
          "name": "stdout",
          "text": [
            "{'bed': '/content/drive/MyDrive/datasets/single_words/bed/1203.wav', 'bird': '/content/drive/MyDrive/datasets/single_words/bird/1243.wav', 'cat': '/content/drive/MyDrive/datasets/single_words/cat/1028.wav', 'dog': '/content/drive/MyDrive/datasets/single_words/dog/366.wav', 'down': '/content/drive/MyDrive/datasets/single_words/down/1174.wav', 'eight': '/content/drive/MyDrive/datasets/single_words/eight/191.wav', 'five': '/content/drive/MyDrive/datasets/single_words/five/583.wav', 'four': '/content/drive/MyDrive/datasets/single_words/four/3063.wav', 'go': '/content/drive/MyDrive/datasets/single_words/go/951.wav', 'happy': '/content/drive/MyDrive/datasets/single_words/happy/113.wav', 'house': '/content/drive/MyDrive/datasets/single_words/house/177.wav', 'left': '/content/drive/MyDrive/datasets/single_words/left/109.wav', 'marvel': '/content/drive/MyDrive/datasets/single_words/marvel/1027.wav', 'nine': '/content/drive/MyDrive/datasets/single_words/nine/938.wav', 'no': '/content/drive/MyDrive/datasets/single_words/no/663.wav', 'off': '/content/drive/MyDrive/datasets/single_words/off/437.wav', 'on': '/content/drive/MyDrive/datasets/single_words/on/661.wav', 'one': '/content/drive/MyDrive/datasets/single_words/one/4.wav', 'right': '/content/drive/MyDrive/datasets/single_words/right/573.wav', 'seven': '/content/drive/MyDrive/datasets/single_words/seven/308.wav', 'sheila': '/content/drive/MyDrive/datasets/single_words/sheila/292.wav', 'six': '/content/drive/MyDrive/datasets/single_words/six/1332.wav', 'stop': '/content/drive/MyDrive/datasets/single_words/stop/1398.wav', 'three': '/content/drive/MyDrive/datasets/single_words/three/118.wav', 'tree': '/content/drive/MyDrive/datasets/single_words/tree/459.wav', 'two': '/content/drive/MyDrive/datasets/single_words/two/838.wav', 'up': '/content/drive/MyDrive/datasets/single_words/up/946.wav', 'wow': '/content/drive/MyDrive/datasets/single_words/wow/847.wav', 'yes': '/content/drive/MyDrive/datasets/single_words/yes/708.wav', 'zero': '/content/drive/MyDrive/datasets/single_words/zero/1402.wav'}\n"
          ]
        }
      ]
    },
    {
      "cell_type": "code",
      "source": [
        "for truth_label, path in test_files.items():\n",
        "  audio, sampling_freq = librosa.load(path)\n",
        "  # Extract MFCC features\n",
        "  mfcc_features = librosa.feature.mfcc(sr=sampling_freq, y=audio)\n",
        "  X = mfcc_features[:, :15]\n",
        "  scores = []\n",
        "  for hmm_model, label in hmm_models:\n",
        "    score = hmm_model.get_score(X)\n",
        "    scores.append(score)\n",
        "  index = np.array(scores).argmax()\n",
        "  # Print the output\n",
        "  print(\"\\nTrue:\", truth_label)\n",
        "  print(\"Predicted:\", hmm_models[index][1])"
      ],
      "metadata": {
        "id": "Nn0DxbNAva6g",
        "colab": {
          "base_uri": "https://localhost:8080/"
        },
        "outputId": "d4cbc445-271b-4b75-b59d-092572709a91"
      },
      "execution_count": null,
      "outputs": [
        {
          "output_type": "stream",
          "name": "stdout",
          "text": [
            "\n",
            "True: bed\n",
            "Predicted: yes\n",
            "\n",
            "True: bird\n",
            "Predicted: two\n",
            "\n",
            "True: cat\n",
            "Predicted: two\n",
            "\n",
            "True: dog\n",
            "Predicted: on\n",
            "\n",
            "True: down\n",
            "Predicted: tree\n",
            "\n",
            "True: eight\n",
            "Predicted: on\n",
            "\n",
            "True: five\n",
            "Predicted: two\n",
            "\n",
            "True: four\n",
            "Predicted: wow\n",
            "\n",
            "True: go\n",
            "Predicted: one\n",
            "\n",
            "True: happy\n",
            "Predicted: two\n",
            "\n",
            "True: house\n",
            "Predicted: off\n",
            "\n",
            "True: left\n",
            "Predicted: on\n",
            "\n",
            "True: marvel\n",
            "Predicted: one\n",
            "\n",
            "True: nine\n",
            "Predicted: on\n",
            "\n",
            "True: no\n",
            "Predicted: two\n",
            "\n",
            "True: off\n",
            "Predicted: wow\n",
            "\n",
            "True: on\n",
            "Predicted: off\n",
            "\n",
            "True: one\n",
            "Predicted: wow\n",
            "\n",
            "True: right\n",
            "Predicted: right\n",
            "\n",
            "True: seven\n",
            "Predicted: seven\n",
            "\n",
            "True: sheila\n",
            "Predicted: sheila\n",
            "\n",
            "True: six\n",
            "Predicted: six\n",
            "\n",
            "True: stop\n",
            "Predicted: seven\n",
            "\n",
            "True: three\n",
            "Predicted: tree\n",
            "\n",
            "True: tree\n",
            "Predicted: stop\n",
            "\n",
            "True: two\n",
            "Predicted: two\n",
            "\n",
            "True: up\n",
            "Predicted: up\n",
            "\n",
            "True: wow\n",
            "Predicted: seven\n",
            "\n",
            "True: yes\n",
            "Predicted: yes\n",
            "\n",
            "True: zero\n",
            "Predicted: stop\n"
          ]
        }
      ]
    },
    {
      "cell_type": "code",
      "source": [
        "#!pip install torchaudio ipywebrtc"
      ],
      "metadata": {
        "id": "JNLj_pPu_SFM"
      },
      "execution_count": null,
      "outputs": []
    },
    {
      "cell_type": "code",
      "source": [
        "# # Download a static FFmpeg build and add it to PATH.\n",
        "# exist = !which ffmpeg\n",
        "# if not exist:\n",
        "#   !curl https://johnvansickle.com/ffmpeg/releases/ffmpeg-release-amd64-static.tar.xz -o ffmpeg.tar.xz \\\n",
        "#      && tar -xf ffmpeg.tar.xz && rm ffmpeg.tar.xz\n",
        "#   ffmdir = !find . -iname ffmpeg-*-static\n",
        "#   path = %env PATH\n",
        "#   path = path + ':' + ffmdir[0]\n",
        "#   %env PATH $path\n",
        "# print('')\n",
        "# !which ffmpeg\n",
        "# print('Done!')"
      ],
      "metadata": {
        "id": "Eu4Hyy9_ApKs"
      },
      "execution_count": null,
      "outputs": []
    },
    {
      "cell_type": "code",
      "source": [
        "# from ipywebrtc import AudioRecorder, CameraStream\n",
        "# import torchaudio\n",
        "# from IPython.display import Audio\n",
        "\n",
        "# from google.colab import output\n",
        "# output.enable_custom_widget_manager()"
      ],
      "metadata": {
        "id": "zpnBh8Mj_yJe"
      },
      "execution_count": null,
      "outputs": []
    },
    {
      "cell_type": "code",
      "source": [
        "# camera = CameraStream(constraints={'audio': True,'video':False})\n",
        "# recorder = AudioRecorder(stream=camera)\n",
        "# recorder"
      ],
      "metadata": {
        "id": "5ArqfZLk_0LD"
      },
      "execution_count": null,
      "outputs": []
    },
    {
      "cell_type": "code",
      "source": [
        "# # Write to recording.webm\n",
        "# with open('recording.webm', 'wb') as f:\n",
        "#     f.write(recorder.audio.value)\n",
        "\n",
        "# # Translate recording.wemb to file.wav\n",
        "# !ffmpeg -i recording.webm -ac 1 -f wav file.wav -y -hide_banner -loglevel panic\n",
        "\n",
        "# # Extract features from input and predict\n",
        "# input_audio, sr = librosa.load('file.wav')\n",
        "# mfcc_features = librosa.feature.mfcc(sr=sr, y=input_audio)\n",
        "# X = mfcc_features[:, :15]\n",
        "# scores = []\n",
        "# for hmm_model, label in hmm_models:\n",
        "#   score = hmm_model.get_score(X)\n",
        "#   scores.append(score)\n",
        "# index = np.array(scores).argmax()\n",
        "# print(\"Predicted:\", hmm_models[index][1])"
      ],
      "metadata": {
        "id": "GeKwvGZo_2EA"
      },
      "execution_count": null,
      "outputs": []
    },
    {
      "cell_type": "markdown",
      "source": [
        "# Saving the model\n"
      ],
      "metadata": {
        "id": "b31QY4FKzyRO"
      }
    },
    {
      "cell_type": "code",
      "source": [
        "try:\n",
        "    import cPickle as pickle\n",
        "except ModuleNotFoundError:\n",
        "    import pickle\n",
        "\n",
        "from google.colab import files"
      ],
      "metadata": {
        "id": "_irI9lu8z01X"
      },
      "execution_count": null,
      "outputs": []
    },
    {
      "cell_type": "code",
      "source": [
        "def save_object(obj, filename):\n",
        "    \"\"\"\n",
        "    Serialize object and store it in the newly\n",
        "    created file with the specified file name.\n",
        "\n",
        "    Note: This works for array as well.\n",
        "    \"\"\"\n",
        "\n",
        "    with open(f\"{filename}.pkl\", 'wb') as outp:\n",
        "        pickle.dump(obj, outp, pickle.HIGHEST_PROTOCOL)\n",
        "\n",
        "def load_object(filename):\n",
        "  \"\"\"\n",
        "  Load serialized object and return it. Exception will\n",
        "  be raised if the specified file is missing.\n",
        "  \"\"\"\n",
        "\n",
        "  with open(f\"{filename}.pkl\", 'rb') as inp:\n",
        "    return pickle.load(inp)\n",
        "  print(f\"File '{filename}.pkl' not found.\")\n",
        "\n",
        "# ==== Usage Example ====\n",
        "#\n",
        "#Save object:\n",
        "# save_object(hmm_models, 'hmm_model')\n",
        "\n",
        "# Load object:\n",
        "# foo_obj = load_object('foo')"
      ],
      "metadata": {
        "id": "VKli60-sz4Yp"
      },
      "execution_count": null,
      "outputs": []
    },
    {
      "cell_type": "code",
      "source": [
        "files.download(\"hmm_model.pkl\")"
      ],
      "metadata": {
        "colab": {
          "base_uri": "https://localhost:8080/",
          "height": 17
        },
        "id": "wf3zPT6ztZLp",
        "outputId": "4f1391a9-d7d9-4ac1-9af9-6bb1a17c0172"
      },
      "execution_count": null,
      "outputs": [
        {
          "output_type": "display_data",
          "data": {
            "text/plain": [
              "<IPython.core.display.Javascript object>"
            ],
            "application/javascript": [
              "\n",
              "    async function download(id, filename, size) {\n",
              "      if (!google.colab.kernel.accessAllowed) {\n",
              "        return;\n",
              "      }\n",
              "      const div = document.createElement('div');\n",
              "      const label = document.createElement('label');\n",
              "      label.textContent = `Downloading \"${filename}\": `;\n",
              "      div.appendChild(label);\n",
              "      const progress = document.createElement('progress');\n",
              "      progress.max = size;\n",
              "      div.appendChild(progress);\n",
              "      document.body.appendChild(div);\n",
              "\n",
              "      const buffers = [];\n",
              "      let downloaded = 0;\n",
              "\n",
              "      const channel = await google.colab.kernel.comms.open(id);\n",
              "      // Send a message to notify the kernel that we're ready.\n",
              "      channel.send({})\n",
              "\n",
              "      for await (const message of channel.messages) {\n",
              "        // Send a message to notify the kernel that we're ready.\n",
              "        channel.send({})\n",
              "        if (message.buffers) {\n",
              "          for (const buffer of message.buffers) {\n",
              "            buffers.push(buffer);\n",
              "            downloaded += buffer.byteLength;\n",
              "            progress.value = downloaded;\n",
              "          }\n",
              "        }\n",
              "      }\n",
              "      const blob = new Blob(buffers, {type: 'application/binary'});\n",
              "      const a = document.createElement('a');\n",
              "      a.href = window.URL.createObjectURL(blob);\n",
              "      a.download = filename;\n",
              "      div.appendChild(a);\n",
              "      a.click();\n",
              "      div.remove();\n",
              "    }\n",
              "  "
            ]
          },
          "metadata": {}
        },
        {
          "output_type": "display_data",
          "data": {
            "text/plain": [
              "<IPython.core.display.Javascript object>"
            ],
            "application/javascript": [
              "download(\"download_9f2689ab-88dc-4384-8ff3-0125c10669bd\", \"hmm_model.pkl\", 23317)"
            ]
          },
          "metadata": {}
        }
      ]
    },
    {
      "cell_type": "code",
      "source": [
        "m1 = load_object('hmm_model1')\n",
        "m2 = load_object('hmm_model2')\n",
        "\n",
        "models = m1 + m2"
      ],
      "metadata": {
        "id": "Nv_kRPggunQm"
      },
      "execution_count": null,
      "outputs": []
    },
    {
      "cell_type": "code",
      "source": [
        "models"
      ],
      "metadata": {
        "id": "OqD4HB8aPe2C",
        "outputId": "38b2c192-890d-4f2f-8260-e24e586aa869",
        "colab": {
          "base_uri": "https://localhost:8080/"
        }
      },
      "execution_count": null,
      "outputs": [
        {
          "output_type": "execute_result",
          "data": {
            "text/plain": [
              "[(<__main__.HMMTrainer at 0x7974786b2bf0>, 'off'),\n",
              " (<__main__.HMMTrainer at 0x7974786b0670>, 'on'),\n",
              " (<__main__.HMMTrainer at 0x7974786b0af0>, 'one'),\n",
              " (<__main__.HMMTrainer at 0x797485a17400>, 'right'),\n",
              " (<__main__.HMMTrainer at 0x797485a17b20>, 'seven'),\n",
              " (<__main__.HMMTrainer at 0x797485a17ac0>, 'sheila'),\n",
              " (<__main__.HMMTrainer at 0x797485a17c70>, 'six'),\n",
              " (<__main__.HMMTrainer at 0x797485a175e0>, 'stop'),\n",
              " (<__main__.HMMTrainer at 0x7974785d9fc0>, 'three'),\n",
              " (<__main__.HMMTrainer at 0x79747bd95db0>, 'tree'),\n",
              " (<__main__.HMMTrainer at 0x797478702950>, 'two'),\n",
              " (<__main__.HMMTrainer at 0x7974784d4070>, 'up'),\n",
              " (<__main__.HMMTrainer at 0x7974784d4df0>, 'wow'),\n",
              " (<__main__.HMMTrainer at 0x7974784d6080>, 'yes'),\n",
              " (<__main__.HMMTrainer at 0x7974784d5c90>, 'zero'),\n",
              " (<__main__.HMMTrainer at 0x7974786b0b50>, 'bed'),\n",
              " (<__main__.HMMTrainer at 0x79756ef8b040>, 'bird'),\n",
              " (<__main__.HMMTrainer at 0x797473234b80>, 'cat'),\n",
              " (<__main__.HMMTrainer at 0x797473237d00>, 'dog'),\n",
              " (<__main__.HMMTrainer at 0x797473235bd0>, 'down'),\n",
              " (<__main__.HMMTrainer at 0x797473235ff0>, 'eight'),\n",
              " (<__main__.HMMTrainer at 0x7974732343d0>, 'five'),\n",
              " (<__main__.HMMTrainer at 0x797473237190>, 'four'),\n",
              " (<__main__.HMMTrainer at 0x7974786b3e80>, 'go'),\n",
              " (<__main__.HMMTrainer at 0x79756e2fb1c0>, 'happy'),\n",
              " (<__main__.HMMTrainer at 0x7974787add50>, 'house'),\n",
              " (<__main__.HMMTrainer at 0x797478702c80>, 'left'),\n",
              " (<__main__.HMMTrainer at 0x79747bd95420>, 'marvel'),\n",
              " (<__main__.HMMTrainer at 0x79747bd95930>, 'nine'),\n",
              " (<__main__.HMMTrainer at 0x797473237ca0>, 'no')]"
            ]
          },
          "metadata": {},
          "execution_count": 37
        }
      ]
    },
    {
      "cell_type": "code",
      "source": [
        "test_files = {}\n",
        "\n",
        "for df in df_dict.items():\n",
        "  truth_label = df[0]\n",
        "  selected_test = df[1].iloc[-1,:]\n",
        "  test_files[truth_label] = selected_test['path']"
      ],
      "metadata": {
        "id": "KzK-QWG-Phv3"
      },
      "execution_count": null,
      "outputs": []
    },
    {
      "cell_type": "code",
      "source": [
        "for truth_label, path in test_files.items():\n",
        "  audio, sampling_freq = librosa.load(path)\n",
        "  # Extract MFCC features\n",
        "  mfcc_features = librosa.feature.mfcc(sr=sampling_freq, y=audio)\n",
        "  X = mfcc_features[:, :15]\n",
        "  scores = []\n",
        "  for hmm_model, label in models:\n",
        "    score = hmm_model.get_score(X)\n",
        "    scores.append(score)\n",
        "  index = np.array(scores).argmax()\n",
        "  # Print the output\n",
        "  print(\"\\nTrue:\", truth_label)\n",
        "  print(\"Predicted:\", models[index][1])"
      ],
      "metadata": {
        "id": "VJy60mG7PrI_",
        "outputId": "29929173-5e6b-4c20-a1c4-284943ec0571",
        "colab": {
          "base_uri": "https://localhost:8080/"
        }
      },
      "execution_count": null,
      "outputs": [
        {
          "output_type": "stream",
          "name": "stdout",
          "text": [
            "\n",
            "True: bed\n",
            "Predicted: cat\n",
            "\n",
            "True: bird\n",
            "Predicted: bird\n",
            "\n",
            "True: cat\n",
            "Predicted: two\n",
            "\n",
            "True: dog\n",
            "Predicted: bird\n",
            "\n",
            "True: down\n",
            "Predicted: cat\n",
            "\n",
            "True: eight\n",
            "Predicted: eight\n",
            "\n",
            "True: five\n",
            "Predicted: five\n",
            "\n",
            "True: four\n",
            "Predicted: cat\n",
            "\n",
            "True: go\n",
            "Predicted: four\n",
            "\n",
            "True: happy\n",
            "Predicted: happy\n",
            "\n",
            "True: house\n",
            "Predicted: bird\n",
            "\n",
            "True: left\n",
            "Predicted: marvel\n",
            "\n",
            "True: marvel\n",
            "Predicted: marvel\n",
            "\n",
            "True: nine\n",
            "Predicted: marvel\n",
            "\n",
            "True: no\n",
            "Predicted: nine\n",
            "\n",
            "True: off\n",
            "Predicted: go\n",
            "\n",
            "True: on\n",
            "Predicted: eight\n",
            "\n",
            "True: one\n",
            "Predicted: cat\n",
            "\n",
            "True: right\n",
            "Predicted: right\n",
            "\n",
            "True: seven\n",
            "Predicted: seven\n",
            "\n",
            "True: sheila\n",
            "Predicted: sheila\n",
            "\n",
            "True: six\n",
            "Predicted: six\n",
            "\n",
            "True: stop\n",
            "Predicted: left\n",
            "\n",
            "True: three\n",
            "Predicted: cat\n",
            "\n",
            "True: tree\n",
            "Predicted: stop\n",
            "\n",
            "True: two\n",
            "Predicted: two\n",
            "\n",
            "True: up\n",
            "Predicted: up\n",
            "\n",
            "True: wow\n",
            "Predicted: left\n",
            "\n",
            "True: yes\n",
            "Predicted: yes\n",
            "\n",
            "True: zero\n",
            "Predicted: stop\n"
          ]
        }
      ]
    },
    {
      "cell_type": "code",
      "source": [
        "save_object(models, 'baseline')"
      ],
      "metadata": {
        "id": "f6XO5pp8Pwfz"
      },
      "execution_count": null,
      "outputs": []
    },
    {
      "cell_type": "code",
      "source": [
        "files.download(\"baseline.pkl\")"
      ],
      "metadata": {
        "id": "qYZPsknYQCNs",
        "outputId": "cdb1b88c-a75d-468c-ba81-9158e88b598d",
        "colab": {
          "base_uri": "https://localhost:8080/",
          "height": 17
        }
      },
      "execution_count": null,
      "outputs": [
        {
          "output_type": "display_data",
          "data": {
            "text/plain": [
              "<IPython.core.display.Javascript object>"
            ],
            "application/javascript": [
              "\n",
              "    async function download(id, filename, size) {\n",
              "      if (!google.colab.kernel.accessAllowed) {\n",
              "        return;\n",
              "      }\n",
              "      const div = document.createElement('div');\n",
              "      const label = document.createElement('label');\n",
              "      label.textContent = `Downloading \"${filename}\": `;\n",
              "      div.appendChild(label);\n",
              "      const progress = document.createElement('progress');\n",
              "      progress.max = size;\n",
              "      div.appendChild(progress);\n",
              "      document.body.appendChild(div);\n",
              "\n",
              "      const buffers = [];\n",
              "      let downloaded = 0;\n",
              "\n",
              "      const channel = await google.colab.kernel.comms.open(id);\n",
              "      // Send a message to notify the kernel that we're ready.\n",
              "      channel.send({})\n",
              "\n",
              "      for await (const message of channel.messages) {\n",
              "        // Send a message to notify the kernel that we're ready.\n",
              "        channel.send({})\n",
              "        if (message.buffers) {\n",
              "          for (const buffer of message.buffers) {\n",
              "            buffers.push(buffer);\n",
              "            downloaded += buffer.byteLength;\n",
              "            progress.value = downloaded;\n",
              "          }\n",
              "        }\n",
              "      }\n",
              "      const blob = new Blob(buffers, {type: 'application/binary'});\n",
              "      const a = document.createElement('a');\n",
              "      a.href = window.URL.createObjectURL(blob);\n",
              "      a.download = filename;\n",
              "      div.appendChild(a);\n",
              "      a.click();\n",
              "      div.remove();\n",
              "    }\n",
              "  "
            ]
          },
          "metadata": {}
        },
        {
          "output_type": "display_data",
          "data": {
            "text/plain": [
              "<IPython.core.display.Javascript object>"
            ],
            "application/javascript": [
              "download(\"download_1767da3d-779b-416a-b14a-0d5f6edae56c\", \"baseline.pkl\", 47895)"
            ]
          },
          "metadata": {}
        }
      ]
    },
    {
      "cell_type": "code",
      "source": [
        "df_dict_test = {}"
      ],
      "metadata": {
        "id": "X2Ob3cqJQtkt"
      },
      "execution_count": null,
      "outputs": []
    },
    {
      "cell_type": "code",
      "source": [
        "for i in tqdm.tqdm(range(len(all_subdirectories))):\n",
        "  path = all_subdirectories[i]\n",
        "  fruit_label = Path(path).name\n",
        "  ds = AudioDataset()\n",
        "  if ds.load_transcriptions(path):\n",
        "    df_dict_test[fruit_label] = split_dataframe(ds.df, 0.8)"
      ],
      "metadata": {
        "id": "W2pMYxhhQFLJ",
        "outputId": "461d37e7-499a-48de-bff6-a1ea5de0f2dc",
        "colab": {
          "base_uri": "https://localhost:8080/"
        }
      },
      "execution_count": null,
      "outputs": [
        {
          "output_type": "stream",
          "name": "stderr",
          "text": [
            "100%|██████████| 30/30 [01:16<00:00,  2.54s/it]\n"
          ]
        }
      ]
    },
    {
      "cell_type": "code",
      "source": [
        "def test(row):\n",
        "  audio, sampling_freq = librosa.load(row['path'])\n",
        "  # Extract MFCC features\n",
        "  mfcc_features = librosa.feature.mfcc(sr=sampling_freq, y=audio)\n",
        "  X = mfcc_features[:, :15]\n",
        "  scores = []\n",
        "  for hmm_model, label in models:\n",
        "    score = hmm_model.get_score(X)\n",
        "    scores.append(score)\n",
        "  index = np.array(scores).argmax()\n",
        "  # Print the output\n",
        "  return row['transcription'] == models[index][1]\n",
        "  # print(\"\\nTrue:\", row['transcription'])\n",
        "  # print(\"Predicted:\", models[index][1])"
      ],
      "metadata": {
        "id": "xGrVHpyhSNQC"
      },
      "execution_count": null,
      "outputs": []
    },
    {
      "cell_type": "code",
      "source": [
        "incorrect = 0\n",
        "total = 0\n",
        "for label, df in df_dict_test.items():\n",
        "  for _, row in df.iterrows():\n",
        "    total += 1\n",
        "    incorrect += 1 if not test(row) else 0\n",
        "\n",
        "    if total % 30 == 0:\n",
        "      print(f'Incorrect: {incorrect}')\n",
        "    if total % 100 == 0:\n",
        "      print(f'Total: {total}, Correct: {total-incorrect}, Incorrect: {incorrect}, err%: {\"%.3f\" % (incorrect/total)}')"
      ],
      "metadata": {
        "id": "ePAephWZQyUa",
        "outputId": "88ba4929-f1c2-4e50-8164-6eaae3b4eab0",
        "colab": {
          "base_uri": "https://localhost:8080/"
        }
      },
      "execution_count": null,
      "outputs": [
        {
          "output_type": "stream",
          "name": "stdout",
          "text": [
            "Incorrect: 24\n",
            "Incorrect: 47\n",
            "Incorrect: 71\n",
            "Total: 100, Correct: 20, Incorrect: 80, err%: 0.800\n",
            "Incorrect: 95\n",
            "Incorrect: 122\n",
            "Incorrect: 146\n",
            "Total: 200, Correct: 36, Incorrect: 164, err%: 0.820\n",
            "Incorrect: 174\n",
            "Incorrect: 199\n",
            "Incorrect: 225\n",
            "Incorrect: 247\n",
            "Total: 300, Correct: 53, Incorrect: 247, err%: 0.823\n",
            "Incorrect: 270\n",
            "Incorrect: 292\n",
            "Incorrect: 314\n",
            "Total: 400, Correct: 80, Incorrect: 320, err%: 0.800\n",
            "Incorrect: 332\n",
            "Incorrect: 354\n",
            "Incorrect: 376\n",
            "Total: 500, Correct: 110, Incorrect: 390, err%: 0.780\n",
            "Incorrect: 397\n",
            "Incorrect: 414\n",
            "Incorrect: 436\n",
            "Incorrect: 457\n",
            "Total: 600, Correct: 143, Incorrect: 457, err%: 0.762\n",
            "Incorrect: 479\n",
            "Incorrect: 501\n",
            "Incorrect: 526\n",
            "Total: 700, Correct: 167, Incorrect: 533, err%: 0.761\n",
            "Incorrect: 552\n",
            "Incorrect: 573\n",
            "Incorrect: 596\n",
            "Total: 800, Correct: 187, Incorrect: 613, err%: 0.766\n",
            "Incorrect: 622\n",
            "Incorrect: 646\n",
            "Incorrect: 673\n",
            "Incorrect: 697\n",
            "Total: 900, Correct: 203, Incorrect: 697, err%: 0.774\n",
            "Incorrect: 723\n",
            "Incorrect: 750\n",
            "Incorrect: 777\n",
            "Total: 1000, Correct: 214, Incorrect: 786, err%: 0.786\n",
            "Incorrect: 803\n",
            "Incorrect: 828\n",
            "Incorrect: 853\n",
            "Total: 1100, Correct: 229, Incorrect: 871, err%: 0.792\n",
            "Incorrect: 881\n",
            "Incorrect: 908\n",
            "Incorrect: 938\n",
            "Incorrect: 968\n",
            "Total: 1200, Correct: 232, Incorrect: 968, err%: 0.807\n",
            "Incorrect: 998\n",
            "Incorrect: 1028\n",
            "Incorrect: 1058\n",
            "Total: 1300, Correct: 232, Incorrect: 1068, err%: 0.822\n",
            "Incorrect: 1088\n",
            "Incorrect: 1118\n",
            "Incorrect: 1135\n",
            "Total: 1400, Correct: 256, Incorrect: 1144, err%: 0.817\n",
            "Incorrect: 1149\n",
            "Incorrect: 1167\n",
            "Incorrect: 1181\n",
            "Incorrect: 1195\n",
            "Total: 1500, Correct: 305, Incorrect: 1195, err%: 0.797\n",
            "Incorrect: 1208\n",
            "Incorrect: 1225\n",
            "Incorrect: 1247\n",
            "Total: 1600, Correct: 346, Incorrect: 1254, err%: 0.784\n",
            "Incorrect: 1271\n",
            "Incorrect: 1293\n",
            "Incorrect: 1315\n",
            "Total: 1700, Correct: 374, Incorrect: 1326, err%: 0.780\n",
            "Incorrect: 1334\n",
            "Incorrect: 1359\n",
            "Incorrect: 1376\n",
            "Incorrect: 1397\n",
            "Total: 1800, Correct: 403, Incorrect: 1397, err%: 0.776\n",
            "Incorrect: 1424\n",
            "Incorrect: 1449\n",
            "Incorrect: 1472\n",
            "Total: 1900, Correct: 419, Incorrect: 1481, err%: 0.779\n",
            "Incorrect: 1499\n",
            "Incorrect: 1528\n",
            "Incorrect: 1554\n",
            "Total: 2000, Correct: 428, Incorrect: 1572, err%: 0.786\n",
            "Incorrect: 1582\n",
            "Incorrect: 1608\n",
            "Incorrect: 1631\n",
            "Incorrect: 1657\n",
            "Total: 2100, Correct: 443, Incorrect: 1657, err%: 0.789\n",
            "Incorrect: 1682\n",
            "Incorrect: 1709\n",
            "Incorrect: 1738\n",
            "Total: 2200, Correct: 452, Incorrect: 1748, err%: 0.795\n",
            "Incorrect: 1767\n",
            "Incorrect: 1792\n",
            "Incorrect: 1820\n",
            "Total: 2300, Correct: 460, Incorrect: 1840, err%: 0.800\n",
            "Incorrect: 1850\n",
            "Incorrect: 1879\n",
            "Incorrect: 1907\n",
            "Incorrect: 1936\n",
            "Total: 2400, Correct: 464, Incorrect: 1936, err%: 0.807\n",
            "Incorrect: 1963\n",
            "Incorrect: 1989\n",
            "Incorrect: 2009\n",
            "Total: 2500, Correct: 486, Incorrect: 2014, err%: 0.806\n",
            "Incorrect: 2026\n",
            "Incorrect: 2042\n",
            "Incorrect: 2058\n",
            "Total: 2600, Correct: 533, Incorrect: 2067, err%: 0.795\n",
            "Incorrect: 2072\n",
            "Incorrect: 2092\n",
            "Incorrect: 2110\n",
            "Incorrect: 2129\n",
            "Total: 2700, Correct: 571, Incorrect: 2129, err%: 0.789\n",
            "Incorrect: 2145\n",
            "Incorrect: 2163\n",
            "Incorrect: 2188\n",
            "Total: 2800, Correct: 603, Incorrect: 2197, err%: 0.785\n",
            "Incorrect: 2217\n",
            "Incorrect: 2246\n",
            "Incorrect: 2275\n",
            "Total: 2900, Correct: 606, Incorrect: 2294, err%: 0.791\n",
            "Incorrect: 2304\n",
            "Incorrect: 2333\n",
            "Incorrect: 2359\n",
            "Incorrect: 2383\n",
            "Total: 3000, Correct: 617, Incorrect: 2383, err%: 0.794\n",
            "Incorrect: 2411\n",
            "Incorrect: 2439\n",
            "Incorrect: 2467\n",
            "Total: 3100, Correct: 624, Incorrect: 2476, err%: 0.799\n",
            "Incorrect: 2495\n",
            "Incorrect: 2520\n",
            "Incorrect: 2546\n",
            "Total: 3200, Correct: 640, Incorrect: 2560, err%: 0.800\n",
            "Incorrect: 2570\n",
            "Incorrect: 2588\n",
            "Incorrect: 2605\n",
            "Incorrect: 2625\n",
            "Total: 3300, Correct: 675, Incorrect: 2625, err%: 0.795\n",
            "Incorrect: 2646\n",
            "Incorrect: 2665\n",
            "Incorrect: 2680\n",
            "Total: 3400, Correct: 711, Incorrect: 2689, err%: 0.791\n",
            "Incorrect: 2701\n",
            "Incorrect: 2719\n",
            "Incorrect: 2741\n",
            "Total: 3500, Correct: 747, Incorrect: 2753, err%: 0.787\n",
            "Incorrect: 2762\n",
            "Incorrect: 2786\n",
            "Incorrect: 2811\n",
            "Incorrect: 2830\n",
            "Total: 3600, Correct: 770, Incorrect: 2830, err%: 0.786\n",
            "Incorrect: 2853\n",
            "Incorrect: 2876\n",
            "Incorrect: 2895\n",
            "Total: 3700, Correct: 802, Incorrect: 2898, err%: 0.783\n",
            "Incorrect: 2911\n",
            "Incorrect: 2928\n",
            "Incorrect: 2948\n",
            "Total: 3800, Correct: 837, Incorrect: 2963, err%: 0.780\n",
            "Incorrect: 2971\n",
            "Incorrect: 2990\n",
            "Incorrect: 3016\n",
            "Incorrect: 3036\n",
            "Total: 3900, Correct: 864, Incorrect: 3036, err%: 0.778\n",
            "Incorrect: 3056\n",
            "Incorrect: 3076\n",
            "Incorrect: 3100\n",
            "Total: 4000, Correct: 893, Incorrect: 3107, err%: 0.777\n",
            "Incorrect: 3123\n",
            "Incorrect: 3144\n",
            "Incorrect: 3165\n",
            "Total: 4100, Correct: 918, Incorrect: 3182, err%: 0.776\n",
            "Incorrect: 3188\n",
            "Incorrect: 3209\n",
            "Incorrect: 3231\n",
            "Incorrect: 3254\n",
            "Total: 4200, Correct: 946, Incorrect: 3254, err%: 0.775\n",
            "Incorrect: 3278\n",
            "Incorrect: 3300\n",
            "Incorrect: 3319\n",
            "Total: 4300, Correct: 973, Incorrect: 3327, err%: 0.774\n",
            "Incorrect: 3343\n",
            "Incorrect: 3366\n",
            "Incorrect: 3386\n",
            "Total: 4400, Correct: 998, Incorrect: 3402, err%: 0.773\n",
            "Incorrect: 3410\n",
            "Incorrect: 3433\n",
            "Incorrect: 3462\n",
            "Incorrect: 3486\n",
            "Total: 4500, Correct: 1014, Incorrect: 3486, err%: 0.775\n",
            "Incorrect: 3512\n",
            "Incorrect: 3539\n",
            "Incorrect: 3563\n",
            "Total: 4600, Correct: 1027, Incorrect: 3573, err%: 0.777\n",
            "Incorrect: 3589\n",
            "Incorrect: 3609\n",
            "Incorrect: 3623\n",
            "Total: 4700, Correct: 1066, Incorrect: 3634, err%: 0.773\n",
            "Incorrect: 3642\n",
            "Incorrect: 3660\n",
            "Incorrect: 3674\n",
            "Incorrect: 3688\n",
            "Total: 4800, Correct: 1112, Incorrect: 3688, err%: 0.768\n",
            "Incorrect: 3705\n",
            "Incorrect: 3719\n",
            "Incorrect: 3730\n",
            "Total: 4900, Correct: 1165, Incorrect: 3735, err%: 0.762\n",
            "Incorrect: 3745\n",
            "Incorrect: 3757\n",
            "Incorrect: 3775\n",
            "Total: 5000, Correct: 1213, Incorrect: 3787, err%: 0.757\n",
            "Incorrect: 3791\n",
            "Incorrect: 3809\n",
            "Incorrect: 3826\n",
            "Incorrect: 3843\n",
            "Total: 5100, Correct: 1257, Incorrect: 3843, err%: 0.754\n",
            "Incorrect: 3863\n",
            "Incorrect: 3879\n",
            "Incorrect: 3888\n",
            "Total: 5200, Correct: 1306, Incorrect: 3894, err%: 0.749\n",
            "Incorrect: 3904\n",
            "Incorrect: 3924\n",
            "Incorrect: 3946\n",
            "Total: 5300, Correct: 1338, Incorrect: 3962, err%: 0.748\n",
            "Incorrect: 3968\n",
            "Incorrect: 3991\n",
            "Incorrect: 4013\n",
            "Incorrect: 4038\n",
            "Total: 5400, Correct: 1362, Incorrect: 4038, err%: 0.748\n",
            "Incorrect: 4061\n",
            "Incorrect: 4084\n",
            "Incorrect: 4104\n",
            "Total: 5500, Correct: 1391, Incorrect: 4109, err%: 0.747\n",
            "Incorrect: 4125\n",
            "Incorrect: 4145\n",
            "Incorrect: 4163\n",
            "Total: 5600, Correct: 1425, Incorrect: 4175, err%: 0.746\n",
            "Incorrect: 4183\n",
            "Incorrect: 4204\n",
            "Incorrect: 4226\n",
            "Incorrect: 4247\n",
            "Total: 5700, Correct: 1453, Incorrect: 4247, err%: 0.745\n",
            "Incorrect: 4266\n",
            "Incorrect: 4296\n",
            "Incorrect: 4326\n",
            "Total: 5800, Correct: 1464, Incorrect: 4336, err%: 0.748\n",
            "Incorrect: 4356\n",
            "Incorrect: 4386\n",
            "Incorrect: 4416\n",
            "Total: 5900, Correct: 1464, Incorrect: 4436, err%: 0.752\n",
            "Incorrect: 4446\n",
            "Incorrect: 4476\n",
            "Incorrect: 4506\n",
            "Incorrect: 4517\n",
            "Total: 6000, Correct: 1483, Incorrect: 4517, err%: 0.753\n",
            "Incorrect: 4531\n",
            "Incorrect: 4549\n",
            "Incorrect: 4566\n",
            "Total: 6100, Correct: 1531, Incorrect: 4569, err%: 0.749\n",
            "Incorrect: 4577\n",
            "Incorrect: 4595\n",
            "Incorrect: 4608\n",
            "Total: 6200, Correct: 1580, Incorrect: 4620, err%: 0.745\n",
            "Incorrect: 4623\n",
            "Incorrect: 4645\n",
            "Incorrect: 4664\n",
            "Incorrect: 4682\n",
            "Total: 6300, Correct: 1618, Incorrect: 4682, err%: 0.743\n",
            "Incorrect: 4708\n",
            "Incorrect: 4729\n",
            "Incorrect: 4748\n",
            "Total: 6400, Correct: 1649, Incorrect: 4751, err%: 0.742\n",
            "Incorrect: 4760\n",
            "Incorrect: 4777\n",
            "Incorrect: 4799\n",
            "Total: 6500, Correct: 1690, Incorrect: 4810, err%: 0.740\n",
            "Incorrect: 4820\n",
            "Incorrect: 4838\n",
            "Incorrect: 4858\n",
            "Incorrect: 4886\n",
            "Total: 6600, Correct: 1714, Incorrect: 4886, err%: 0.740\n",
            "Incorrect: 4913\n",
            "Incorrect: 4940\n",
            "Incorrect: 4968\n",
            "Total: 6700, Correct: 1723, Incorrect: 4977, err%: 0.743\n",
            "Incorrect: 4996\n",
            "Incorrect: 5023\n",
            "Incorrect: 5051\n",
            "Total: 6800, Correct: 1732, Incorrect: 5068, err%: 0.745\n",
            "Incorrect: 5076\n",
            "Incorrect: 5101\n",
            "Incorrect: 5126\n",
            "Incorrect: 5145\n",
            "Total: 6900, Correct: 1755, Incorrect: 5145, err%: 0.746\n",
            "Incorrect: 5166\n",
            "Incorrect: 5184\n",
            "Incorrect: 5202\n",
            "Total: 7000, Correct: 1793, Incorrect: 5207, err%: 0.744\n",
            "Incorrect: 5217\n",
            "Incorrect: 5235\n",
            "Incorrect: 5250\n",
            "Total: 7100, Correct: 1838, Incorrect: 5262, err%: 0.741\n"
          ]
        }
      ]
    },
    {
      "cell_type": "code",
      "source": [],
      "metadata": {
        "id": "AWh326vBRLXd"
      },
      "execution_count": null,
      "outputs": []
    }
  ],
  "metadata": {
    "accelerator": "GPU",
    "colab": {
      "gpuType": "A100",
      "provenance": [],
      "machine_shape": "hm",
      "include_colab_link": true
    },
    "kernelspec": {
      "display_name": "Python 3",
      "name": "python3"
    },
    "language_info": {
      "name": "python"
    }
  },
  "nbformat": 4,
  "nbformat_minor": 0
}
