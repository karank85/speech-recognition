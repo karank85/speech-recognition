{
  "cells": [
    {
      "cell_type": "markdown",
      "metadata": {
        "id": "view-in-github",
        "colab_type": "text"
      },
      "source": [
        "<a href=\"https://colab.research.google.com/github/karank85/speech-recognition/blob/main/Copy_of_Project_2_Non_DL_Speech_Recognition.ipynb\" target=\"_parent\"><img src=\"https://colab.research.google.com/assets/colab-badge.svg\" alt=\"Open In Colab\"/></a>"
      ]
    },
    {
      "cell_type": "code",
      "execution_count": 1,
      "metadata": {
        "id": "joalvPPIEovi"
      },
      "outputs": [],
      "source": [
        "import os\n",
        "\n",
        "import numpy as np\n",
        "from numpy import ndarray\n",
        "import pandas as pd\n",
        "import random\n",
        "\n",
        "import librosa\n",
        "\n",
        "from sklearn.model_selection import train_test_split\n",
        "\n",
        "import matplotlib.pyplot as plt\n",
        "import IPython.display as ipd\n",
        "import librosa.display\n",
        "from tqdm import tqdm\n",
        "\n",
        "\n",
        "import glob\n",
        "import torch\n",
        "\n",
        "from pathlib import Path"
      ]
    },
    {
      "cell_type": "code",
      "execution_count": 2,
      "metadata": {
        "colab": {
          "base_uri": "https://localhost:8080/",
          "height": 36
        },
        "id": "0I4Jsfwxqda-",
        "outputId": "62851998-b874-4853-bd07-720fe226d0cf"
      },
      "outputs": [
        {
          "output_type": "execute_result",
          "data": {
            "text/plain": [
              "'0.10.1'"
            ],
            "application/vnd.google.colaboratory.intrinsic+json": {
              "type": "string"
            }
          },
          "metadata": {},
          "execution_count": 2
        }
      ],
      "source": [
        "librosa.__version__"
      ]
    },
    {
      "cell_type": "code",
      "execution_count": 3,
      "metadata": {
        "colab": {
          "base_uri": "https://localhost:8080/"
        },
        "id": "O00x13rfjSEp",
        "outputId": "0ffab127-05ff-4701-f489-198aafd84d4f"
      },
      "outputs": [
        {
          "output_type": "stream",
          "name": "stdout",
          "text": [
            "Mounted at /content/drive\n"
          ]
        }
      ],
      "source": [
        "from google.colab import drive\n",
        "drive.mount('/content/drive', force_remount=True)"
      ]
    },
    {
      "cell_type": "code",
      "execution_count": 4,
      "metadata": {
        "colab": {
          "base_uri": "https://localhost:8080/",
          "height": 36
        },
        "id": "oFl-7zCtzEAS",
        "outputId": "d5d6ee3a-9f2f-4903-94df-42adc2cf438f"
      },
      "outputs": [
        {
          "output_type": "execute_result",
          "data": {
            "text/plain": [
              "'cpu'"
            ],
            "application/vnd.google.colaboratory.intrinsic+json": {
              "type": "string"
            }
          },
          "metadata": {},
          "execution_count": 4
        }
      ],
      "source": [
        "device = \"cuda\" if torch.cuda.is_available() else \"cpu\"\n",
        "device"
      ]
    },
    {
      "cell_type": "code",
      "source": [
        "# Assumptions:\n",
        "# - The transcription file is located in the same directory as the audio files.\n",
        "class AudioDataset:\n",
        "  \"\"\"\n",
        "  Class for loading and storing audio data.\n",
        "  \"\"\"\n",
        "\n",
        "  def __init__(self):\n",
        "    self.df = pd.DataFrame(columns=['id', 'path', 'transcription'])\n",
        "\n",
        "  def load_transcriptions(self, directory_path: str) -> bool:\n",
        "    \"\"\"\n",
        "    Load all transcriptions from a given directory, including subdirectories.\n",
        "    Returns False if no transcription files were found, or if any failed to load.\n",
        "    \"\"\"\n",
        "    sound_names = glob.glob(\n",
        "        f\"{directory_path}/**/*.wav\",\n",
        "        recursive=True\n",
        "    )\n",
        "\n",
        "    if len(sound_names) == 0:\n",
        "      return False\n",
        "\n",
        "    for path in sound_names:\n",
        "      if not self.load_transcription_file(path):\n",
        "        return False\n",
        "\n",
        "    return True\n",
        "\n",
        "\n",
        "\n",
        "  def load_transcription_file(self, file_path: str) -> bool:\n",
        "    \"\"\"\n",
        "    Parse transcription file and records the audio ID - subtitle mapping.\n",
        "    Returns False if the file could not be read.\n",
        "    \"\"\"\n",
        "\n",
        "    file_directory = Path(file_path).parent\n",
        "    file_name = Path(file_path).stem\n",
        "    self.df.loc[len(self.df)] = {\n",
        "        'id':file_name,\n",
        "        'transcription':file_directory.name,\n",
        "        'path': f'{file_directory}/{file_name}.wav'\n",
        "    }\n",
        "    return True\n",
        "\n",
        "  def keys(self):\n",
        "    return iter(self.df['id'])\n",
        "\n",
        "  def get(self, id: int):\n",
        "    \"\"\"\n",
        "    Retrieve a dataframe row from ID.\n",
        "    \"\"\"\n",
        "    return self.df.loc[self.df['id'] == id]"
      ],
      "metadata": {
        "id": "s5MsALQX_47K"
      },
      "execution_count": 5,
      "outputs": []
    },
    {
      "cell_type": "code",
      "source": [
        "random.seed(42)\n",
        "\n",
        "def split_dataframe(df, ratio):\n",
        "    # Shuffle the DataFrame\n",
        "    df_shuffled = df.sample(frac=1, random_state=42).reset_index(drop=True)\n",
        "\n",
        "    # Calculate the split index\n",
        "    split_index = int(len(df_shuffled) * ratio)\n",
        "\n",
        "    # Split the DataFrame\n",
        "    df_1 = df_shuffled.iloc[:split_index]\n",
        "    #df_2 = df_shuffled.iloc[split_index:] unneeded for training\n",
        "\n",
        "    return df_1"
      ],
      "metadata": {
        "id": "U1daEXDhmTPy"
      },
      "execution_count": 6,
      "outputs": []
    },
    {
      "cell_type": "code",
      "source": [
        "df_dict = {}"
      ],
      "metadata": {
        "id": "5yKBHPxjqa8_"
      },
      "execution_count": 7,
      "outputs": []
    },
    {
      "cell_type": "code",
      "source": [
        "all_subdirectories = glob.glob(\n",
        "        f\"/content/drive/MyDrive/test_hmm/*/\",\n",
        "        recursive=True\n",
        ")\n",
        "\n",
        "for path in all_subdirectories:\n",
        "  fruit_label = Path(path).name\n",
        "  ds = AudioDataset()\n",
        "  if ds.load_transcriptions(path):\n",
        "    df_dict[fruit_label] = split_dataframe(ds.df, 0.8)"
      ],
      "metadata": {
        "id": "dVwBCsJEqj8f"
      },
      "execution_count": 8,
      "outputs": []
    },
    {
      "cell_type": "code",
      "execution_count": 9,
      "metadata": {
        "colab": {
          "base_uri": "https://localhost:8080/"
        },
        "id": "ZKy7iv3DWBZY",
        "outputId": "f9882d99-6452-4e6b-e8ff-e27d5e478fd1"
      },
      "outputs": [
        {
          "output_type": "execute_result",
          "data": {
            "text/plain": [
              "{'apple':          id                                               path transcription\n",
              " 0   apple10  /content/drive/MyDrive/test_hmm/apple/apple10.wav         apple\n",
              " 1   apple12  /content/drive/MyDrive/test_hmm/apple/apple12.wav         apple\n",
              " 2   apple01  /content/drive/MyDrive/test_hmm/apple/apple01.wav         apple\n",
              " 3   apple14  /content/drive/MyDrive/test_hmm/apple/apple14.wav         apple\n",
              " 4   apple06  /content/drive/MyDrive/test_hmm/apple/apple06.wav         apple\n",
              " 5   apple09  /content/drive/MyDrive/test_hmm/apple/apple09.wav         apple\n",
              " 6   apple03  /content/drive/MyDrive/test_hmm/apple/apple03.wav         apple\n",
              " 7   apple02  /content/drive/MyDrive/test_hmm/apple/apple02.wav         apple\n",
              " 8   apple15  /content/drive/MyDrive/test_hmm/apple/apple15.wav         apple\n",
              " 9   apple05  /content/drive/MyDrive/test_hmm/apple/apple05.wav         apple\n",
              " 10  apple08  /content/drive/MyDrive/test_hmm/apple/apple08.wav         apple\n",
              " 11  apple11  /content/drive/MyDrive/test_hmm/apple/apple11.wav         apple,\n",
              " 'banana':           id                                               path transcription\n",
              " 0   banana10  /content/drive/MyDrive/test_hmm/banana/banana1...        banana\n",
              " 1   banana12  /content/drive/MyDrive/test_hmm/banana/banana1...        banana\n",
              " 2   banana01  /content/drive/MyDrive/test_hmm/banana/banana0...        banana\n",
              " 3   banana14  /content/drive/MyDrive/test_hmm/banana/banana1...        banana\n",
              " 4   banana06  /content/drive/MyDrive/test_hmm/banana/banana0...        banana\n",
              " 5   banana09  /content/drive/MyDrive/test_hmm/banana/banana0...        banana\n",
              " 6   banana03  /content/drive/MyDrive/test_hmm/banana/banana0...        banana\n",
              " 7   banana02  /content/drive/MyDrive/test_hmm/banana/banana0...        banana\n",
              " 8   banana15  /content/drive/MyDrive/test_hmm/banana/banana1...        banana\n",
              " 9   banana05  /content/drive/MyDrive/test_hmm/banana/banana0...        banana\n",
              " 10  banana08  /content/drive/MyDrive/test_hmm/banana/banana0...        banana\n",
              " 11  banana11  /content/drive/MyDrive/test_hmm/banana/banana1...        banana,\n",
              " 'lime':         id                                             path transcription\n",
              " 0   lime11  /content/drive/MyDrive/test_hmm/lime/lime11.wav          lime\n",
              " 1   lime15  /content/drive/MyDrive/test_hmm/lime/lime15.wav          lime\n",
              " 2   lime06  /content/drive/MyDrive/test_hmm/lime/lime06.wav          lime\n",
              " 3   lime01  /content/drive/MyDrive/test_hmm/lime/lime01.wav          lime\n",
              " 4   lime12  /content/drive/MyDrive/test_hmm/lime/lime12.wav          lime\n",
              " 5   lime07  /content/drive/MyDrive/test_hmm/lime/lime07.wav          lime\n",
              " 6   lime04  /content/drive/MyDrive/test_hmm/lime/lime04.wav          lime\n",
              " 7   lime02  /content/drive/MyDrive/test_hmm/lime/lime02.wav          lime\n",
              " 8   lime09  /content/drive/MyDrive/test_hmm/lime/lime09.wav          lime\n",
              " 9   lime14  /content/drive/MyDrive/test_hmm/lime/lime14.wav          lime\n",
              " 10  lime03  /content/drive/MyDrive/test_hmm/lime/lime03.wav          lime\n",
              " 11  lime13  /content/drive/MyDrive/test_hmm/lime/lime13.wav          lime,\n",
              " 'orange':           id                                               path transcription\n",
              " 0   orange13  /content/drive/MyDrive/test_hmm/orange/orange1...        orange\n",
              " 1   orange09  /content/drive/MyDrive/test_hmm/orange/orange0...        orange\n",
              " 2   orange05  /content/drive/MyDrive/test_hmm/orange/orange0...        orange\n",
              " 3   orange07  /content/drive/MyDrive/test_hmm/orange/orange0...        orange\n",
              " 4   orange14  /content/drive/MyDrive/test_hmm/orange/orange1...        orange\n",
              " 5   orange11  /content/drive/MyDrive/test_hmm/orange/orange1...        orange\n",
              " 6   orange12  /content/drive/MyDrive/test_hmm/orange/orange1...        orange\n",
              " 7   orange10  /content/drive/MyDrive/test_hmm/orange/orange1...        orange\n",
              " 8   orange01  /content/drive/MyDrive/test_hmm/orange/orange0...        orange\n",
              " 9   orange04  /content/drive/MyDrive/test_hmm/orange/orange0...        orange\n",
              " 10  orange06  /content/drive/MyDrive/test_hmm/orange/orange0...        orange\n",
              " 11  orange03  /content/drive/MyDrive/test_hmm/orange/orange0...        orange,\n",
              " 'kiwi':         id                                             path transcription\n",
              " 0   kiwi07  /content/drive/MyDrive/test_hmm/kiwi/kiwi07.wav          kiwi\n",
              " 1   kiwi10  /content/drive/MyDrive/test_hmm/kiwi/kiwi10.wav          kiwi\n",
              " 2   kiwi08  /content/drive/MyDrive/test_hmm/kiwi/kiwi08.wav          kiwi\n",
              " 3   kiwi14  /content/drive/MyDrive/test_hmm/kiwi/kiwi14.wav          kiwi\n",
              " 4   kiwi01  /content/drive/MyDrive/test_hmm/kiwi/kiwi01.wav          kiwi\n",
              " 5   kiwi09  /content/drive/MyDrive/test_hmm/kiwi/kiwi09.wav          kiwi\n",
              " 6   kiwi06  /content/drive/MyDrive/test_hmm/kiwi/kiwi06.wav          kiwi\n",
              " 7   kiwi12  /content/drive/MyDrive/test_hmm/kiwi/kiwi12.wav          kiwi\n",
              " 8   kiwi04  /content/drive/MyDrive/test_hmm/kiwi/kiwi04.wav          kiwi\n",
              " 9   kiwi02  /content/drive/MyDrive/test_hmm/kiwi/kiwi02.wav          kiwi\n",
              " 10  kiwi03  /content/drive/MyDrive/test_hmm/kiwi/kiwi03.wav          kiwi\n",
              " 11  kiwi05  /content/drive/MyDrive/test_hmm/kiwi/kiwi05.wav          kiwi,\n",
              " 'pineapple':              id                                               path  \\\n",
              " 0   pineapple03  /content/drive/MyDrive/test_hmm/pineapple/pine...   \n",
              " 1   pineapple05  /content/drive/MyDrive/test_hmm/pineapple/pine...   \n",
              " 2   pineapple02  /content/drive/MyDrive/test_hmm/pineapple/pine...   \n",
              " 3   pineapple13  /content/drive/MyDrive/test_hmm/pineapple/pine...   \n",
              " 4   pineapple14  /content/drive/MyDrive/test_hmm/pineapple/pine...   \n",
              " 5   pineapple10  /content/drive/MyDrive/test_hmm/pineapple/pine...   \n",
              " 6   pineapple04  /content/drive/MyDrive/test_hmm/pineapple/pine...   \n",
              " 7   pineapple08  /content/drive/MyDrive/test_hmm/pineapple/pine...   \n",
              " 8   pineapple07  /content/drive/MyDrive/test_hmm/pineapple/pine...   \n",
              " 9   pineapple09  /content/drive/MyDrive/test_hmm/pineapple/pine...   \n",
              " 10  pineapple01  /content/drive/MyDrive/test_hmm/pineapple/pine...   \n",
              " 11  pineapple12  /content/drive/MyDrive/test_hmm/pineapple/pine...   \n",
              " \n",
              "    transcription  \n",
              " 0      pineapple  \n",
              " 1      pineapple  \n",
              " 2      pineapple  \n",
              " 3      pineapple  \n",
              " 4      pineapple  \n",
              " 5      pineapple  \n",
              " 6      pineapple  \n",
              " 7      pineapple  \n",
              " 8      pineapple  \n",
              " 9      pineapple  \n",
              " 10     pineapple  \n",
              " 11     pineapple  ,\n",
              " 'peach':          id                                               path transcription\n",
              " 0   peach03  /content/drive/MyDrive/test_hmm/peach/peach03.wav         peach\n",
              " 1   peach15  /content/drive/MyDrive/test_hmm/peach/peach15.wav         peach\n",
              " 2   peach12  /content/drive/MyDrive/test_hmm/peach/peach12.wav         peach\n",
              " 3   peach07  /content/drive/MyDrive/test_hmm/peach/peach07.wav         peach\n",
              " 4   peach02  /content/drive/MyDrive/test_hmm/peach/peach02.wav         peach\n",
              " 5   peach10  /content/drive/MyDrive/test_hmm/peach/peach10.wav         peach\n",
              " 6   peach14  /content/drive/MyDrive/test_hmm/peach/peach14.wav         peach\n",
              " 7   peach01  /content/drive/MyDrive/test_hmm/peach/peach01.wav         peach\n",
              " 8   peach04  /content/drive/MyDrive/test_hmm/peach/peach04.wav         peach\n",
              " 9   peach13  /content/drive/MyDrive/test_hmm/peach/peach13.wav         peach\n",
              " 10  peach11  /content/drive/MyDrive/test_hmm/peach/peach11.wav         peach\n",
              " 11  peach05  /content/drive/MyDrive/test_hmm/peach/peach05.wav         peach}"
            ]
          },
          "metadata": {},
          "execution_count": 9
        }
      ],
      "source": [
        "df_dict"
      ]
    },
    {
      "cell_type": "code",
      "source": [
        "sample_df = df_dict['apple']\n",
        "sample_input_file = sample_df['path'].iloc[0]\n",
        "print(\"Selected input file: \", sample_input_file)"
      ],
      "metadata": {
        "id": "4FhZYcC5_6XN",
        "outputId": "71e7a926-8737-49c3-8333-f89def8e87dd",
        "colab": {
          "base_uri": "https://localhost:8080/"
        }
      },
      "execution_count": 10,
      "outputs": [
        {
          "output_type": "stream",
          "name": "stdout",
          "text": [
            "Selected input file:  /content/drive/MyDrive/test_hmm/apple/apple10.wav\n"
          ]
        }
      ]
    },
    {
      "cell_type": "code",
      "source": [
        "audio, sampling_freq = librosa.load(sample_input_file)\n",
        "pd.Series(audio).plot(figsize=(10, 5),lw=1, title=\"Audio signal\", xlabel=\"Time\", ylabel=\"Amplitude\")"
      ],
      "metadata": {
        "id": "tCwPqPqkATIA",
        "outputId": "0e6fa3b2-47d9-4b7c-d851-1944e4f9c363",
        "colab": {
          "base_uri": "https://localhost:8080/",
          "height": 505
        }
      },
      "execution_count": 11,
      "outputs": [
        {
          "output_type": "execute_result",
          "data": {
            "text/plain": [
              "<Axes: title={'center': 'Audio signal'}, xlabel='Time', ylabel='Amplitude'>"
            ]
          },
          "metadata": {},
          "execution_count": 11
        },
        {
          "output_type": "display_data",
          "data": {
            "text/plain": [
              "<Figure size 1000x500 with 1 Axes>"
            ],
            "image/png": "[encoded data removed]"
          },
          "metadata": {}
        }
      ]
    },
    {
      "cell_type": "code",
      "source": [
        "fft = np.fft.fft(audio)\n",
        "\n",
        "magnitude = np.abs(fft)\n",
        "frequency = np.linspace(0, sampling_freq, len(magnitude))\n",
        "\n",
        "left_freq = frequency[:int(len(frequency)/2)]\n",
        "left_mag = magnitude[:int(len(frequency)/2)]\n",
        "\n",
        "plt.plot(left_freq, left_mag)\n",
        "plt.xlabel(\"Frequency\")\n",
        "plt.ylabel(\"Amplitude\")\n",
        "plt.title(\"Power Spectrum\")"
      ],
      "metadata": {
        "id": "VIFu6OHF6_Kq",
        "outputId": "b022d01f-fe7f-4745-ec6c-0aa884092a28",
        "colab": {
          "base_uri": "https://localhost:8080/",
          "height": 490
        }
      },
      "execution_count": 12,
      "outputs": [
        {
          "output_type": "execute_result",
          "data": {
            "text/plain": [
              "Text(0.5, 1.0, 'Power Spectrum')"
            ]
          },
          "metadata": {},
          "execution_count": 12
        },
        {
          "output_type": "display_data",
          "data": {
            "text/plain": [
              "<Figure size 640x480 with 1 Axes>"
            ],
            "image/png": "[encoded data removed]"
          },
          "metadata": {}
        }
      ]
    },
    {
      "cell_type": "code",
      "source": [
        "n_fft = 2048\n",
        "hop_length = 512\n",
        "\n",
        "stft = librosa.core.stft(audio, hop_length=hop_length, n_fft=n_fft)\n",
        "spectrogram = np.abs(stft)\n",
        "\n",
        "log_spectrogram = librosa.amplitude_to_db(spectrogram)\n",
        "\n",
        "librosa.display.specshow(log_spectrogram, sr=sampling_freq, hop_length=hop_length)\n",
        "plt.xlabel(\"Time\")\n",
        "plt.ylabel(\"Frequency\")\n",
        "plt.colorbar()\n",
        "plt.show()\n"
      ],
      "metadata": {
        "id": "fC-c-NIi9qFv",
        "outputId": "5314dd40-49fb-4429-a68a-312af63e13af",
        "colab": {
          "base_uri": "https://localhost:8080/",
          "height": 426
        }
      },
      "execution_count": 13,
      "outputs": [
        {
          "output_type": "display_data",
          "data": {
            "text/plain": [
              "<Figure size 640x480 with 2 Axes>"
            ],
            "image/png": "[encoded data removed]"
          },
          "metadata": {}
        }
      ]
    },
    {
      "cell_type": "code",
      "source": [
        "mfccs = librosa.feature.mfcc(y=audio, n_fft=n_fft, hop_length=hop_length, n_mfcc=15)\n",
        "librosa.display.specshow(mfccs, sr=sampling_freq, hop_length=hop_length)\n",
        "plt.xlabel(\"Time\")\n",
        "plt.ylabel(\"MFCC\")\n",
        "plt.colorbar()\n",
        "plt.show()"
      ],
      "metadata": {
        "id": "7mcrgK2n9xSJ",
        "outputId": "aae865a9-04e5-4055-b636-71a5aca7eb0f",
        "colab": {
          "base_uri": "https://localhost:8080/",
          "height": 426
        }
      },
      "execution_count": 14,
      "outputs": [
        {
          "output_type": "display_data",
          "data": {
            "text/plain": [
              "<Figure size 640x480 with 2 Axes>"
            ],
            "image/png": "[encoded data removed]"
          },
          "metadata": {}
        }
      ]
    },
    {
      "cell_type": "markdown",
      "metadata": {
        "id": "vUEkvJCdpukC"
      },
      "source": [
        "### Extracting Features"
      ]
    },
    {
      "cell_type": "code",
      "execution_count": 15,
      "metadata": {
        "id": "Xn_bykkYrAsW"
      },
      "outputs": [],
      "source": [
        "# from librosa.feature import mfcc\n",
        "# import librosa\n",
        "# audio, sampling_freq = librosa.load(ds.df.head()['path'].values[0])\n",
        "# mfcc_features = librosa.feature.mfcc(sr=sampling_freq, y=audio)\n",
        "# print('\\nNumber of windows =', mfcc_features.shape[0])\n",
        "# print('Length of each feature =', mfcc_features.shape[1])"
      ]
    },
    {
      "cell_type": "code",
      "execution_count": 16,
      "metadata": {
        "id": "K6xerVMEP_U2"
      },
      "outputs": [],
      "source": [
        "# mfcc_features = mfcc_features.T\n",
        "# plt.matshow(mfcc_features)\n",
        "# plt.title('MFCC')"
      ]
    },
    {
      "cell_type": "code",
      "execution_count": 17,
      "metadata": {
        "colab": {
          "base_uri": "https://localhost:8080/"
        },
        "id": "B9BvQpBmmA-_",
        "outputId": "f6e105e3-b5cd-4d6d-97ea-0164317a9d3f"
      },
      "outputs": [
        {
          "output_type": "stream",
          "name": "stdout",
          "text": [
            "Collecting hmmlearn\n",
            "  Downloading hmmlearn-0.3.2-cp310-cp310-manylinux_2_17_x86_64.manylinux2014_x86_64.whl (161 kB)\n",
            "\u001b[2K     \u001b[90m━━━━━━━━━━━━━━━━━━━━━━━━━━━━━━━━━━━━━━━━\u001b[0m \u001b[32m161.1/161.1 kB\u001b[0m \u001b[31m1.6 MB/s\u001b[0m eta \u001b[36m0:00:00\u001b[0m\n",
            "\u001b[?25hRequirement already satisfied: numpy>=1.10 in /usr/local/lib/python3.10/dist-packages (from hmmlearn) (1.25.2)\n",
            "Requirement already satisfied: scikit-learn!=0.22.0,>=0.16 in /usr/local/lib/python3.10/dist-packages (from hmmlearn) (1.2.2)\n",
            "Requirement already satisfied: scipy>=0.19 in /usr/local/lib/python3.10/dist-packages (from hmmlearn) (1.11.4)\n",
            "Requirement already satisfied: joblib>=1.1.1 in /usr/local/lib/python3.10/dist-packages (from scikit-learn!=0.22.0,>=0.16->hmmlearn) (1.3.2)\n",
            "Requirement already satisfied: threadpoolctl>=2.0.0 in /usr/local/lib/python3.10/dist-packages (from scikit-learn!=0.22.0,>=0.16->hmmlearn) (3.4.0)\n",
            "Installing collected packages: hmmlearn\n",
            "Successfully installed hmmlearn-0.3.2\n",
            "Collecting features\n",
            "  Downloading features-0.5.12-py2.py3-none-any.whl (15 kB)\n",
            "Collecting concepts~=0.7 (from features)\n",
            "  Downloading concepts-0.9.2-py2.py3-none-any.whl (31 kB)\n",
            "Collecting fileconfig~=0.5 (from features)\n",
            "  Downloading fileconfig-0.6.1-py3-none-any.whl (8.6 kB)\n",
            "Requirement already satisfied: graphviz~=0.7 in /usr/local/lib/python3.10/dist-packages (from features) (0.20.3)\n",
            "Collecting bitsets~=0.7 (from concepts~=0.7->features)\n",
            "  Downloading bitsets-0.8.4-py3-none-any.whl (13 kB)\n",
            "Installing collected packages: fileconfig, bitsets, concepts, features\n",
            "Successfully installed bitsets-0.8.4 concepts-0.9.2 features-0.5.12 fileconfig-0.6.1\n"
          ]
        }
      ],
      "source": [
        "!pip install hmmlearn\n",
        "!pip install features"
      ]
    },
    {
      "cell_type": "code",
      "execution_count": 18,
      "metadata": {
        "id": "_H-mpoRAmDd6"
      },
      "outputs": [],
      "source": [
        "import os\n",
        "import numpy as np\n",
        "from scipy.io import wavfile\n",
        "from hmmlearn import hmm #importing GaussianHMM\n",
        "import librosa # reading wavefilesfrom librosa.feature import mfcc #to extract mfcc features"
      ]
    },
    {
      "cell_type": "code",
      "execution_count": 19,
      "metadata": {
        "id": "e9pLjDWuQtqI"
      },
      "outputs": [],
      "source": [
        "class HMMTrainer(object):\n",
        "  def __init__(self, model_name='GaussianHMM', n_components=4):\n",
        "     self.model_name = model_name\n",
        "     self.n_components = n_components\n",
        "\n",
        "     self.models = []\n",
        "     if self.model_name == 'GaussianHMM':\n",
        "        self.model=hmm.GaussianHMM(n_components=4)\n",
        "     else:\n",
        "        print(\"Please choose GaussianHMM\")\n",
        "\n",
        "  def train(self, X):\n",
        "      self.models.append(self.model.fit(X))\n",
        "\n",
        "  def get_score(self, input_data):\n",
        "      return self.model.score(input_data)"
      ]
    },
    {
      "cell_type": "code",
      "source": [
        "hmm_models = []\n",
        "\n",
        "for df in df_dict.items():\n",
        "  fruit_label = df[0]\n",
        "  X = np.array([])\n",
        "  for index, row in df[1].iloc[:-1,:].iterrows():\n",
        "    # Read the input file\n",
        "    audio, sampling_freq = librosa.load(row['path'])\n",
        "    # Extract MFCC features\n",
        "    mfcc_features = librosa.feature.mfcc(sr=sampling_freq, y=audio)\n",
        "    # Append to the variable X\n",
        "    if len(X) == 0:\n",
        "      X = mfcc_features[:, :15]  # 15 here denotes the number of MFCC coefficients to consider\n",
        "    else:\n",
        "      X = np.append(X, mfcc_features[:, :15], axis=0)\n",
        "    # Append the label\n",
        "    # print('X.shape =', X.shape)\n",
        "\n",
        "  # Train HMM model for this iteration\n",
        "  hmm_trainer = HMMTrainer()\n",
        "  hmm_trainer.train(X)  # Train using the current MFCC features\n",
        "  hmm_models.append((hmm_trainer, fruit_label))\n"
      ],
      "metadata": {
        "id": "sd7pFP7Bs5i0"
      },
      "execution_count": 20,
      "outputs": []
    },
    {
      "cell_type": "code",
      "source": [
        "print(len(hmm_models))"
      ],
      "metadata": {
        "colab": {
          "base_uri": "https://localhost:8080/"
        },
        "id": "sE3dUaKwuQEZ",
        "outputId": "51d84e84-ea6f-45cd-94dc-bf478d09bb51"
      },
      "execution_count": 21,
      "outputs": [
        {
          "output_type": "stream",
          "name": "stdout",
          "text": [
            "7\n"
          ]
        }
      ]
    },
    {
      "cell_type": "code",
      "source": [
        "test_files = {}\n",
        "\n",
        "for df in df_dict.items():\n",
        "  truth_label = df[0]\n",
        "  selected_test = df[1].iloc[-1,:]\n",
        "  test_files[truth_label] = selected_test['path']"
      ],
      "metadata": {
        "id": "Ye6wJvkau7wf"
      },
      "execution_count": 22,
      "outputs": []
    },
    {
      "cell_type": "code",
      "source": [
        "print(test_files)"
      ],
      "metadata": {
        "colab": {
          "base_uri": "https://localhost:8080/"
        },
        "id": "edSWkOzbvXXZ",
        "outputId": "45ae923f-b647-4520-c555-9f4bc230da99"
      },
      "execution_count": 23,
      "outputs": [
        {
          "output_type": "stream",
          "name": "stdout",
          "text": [
            "{'apple': '/content/drive/MyDrive/test_hmm/apple/apple11.wav', 'banana': '/content/drive/MyDrive/test_hmm/banana/banana11.wav', 'lime': '/content/drive/MyDrive/test_hmm/lime/lime13.wav', 'orange': '/content/drive/MyDrive/test_hmm/orange/orange03.wav', 'kiwi': '/content/drive/MyDrive/test_hmm/kiwi/kiwi05.wav', 'pineapple': '/content/drive/MyDrive/test_hmm/pineapple/pineapple12.wav', 'peach': '/content/drive/MyDrive/test_hmm/peach/peach05.wav'}\n"
          ]
        }
      ]
    },
    {
      "cell_type": "code",
      "source": [
        "for truth_label, path in test_files.items():\n",
        "  audio, sampling_freq = librosa.load(path)\n",
        "  # Extract MFCC features\n",
        "  mfcc_features = librosa.feature.mfcc(sr=sampling_freq, y=audio)\n",
        "  X = mfcc_features[:, :15]\n",
        "  scores = []\n",
        "  for hmm_model, label in hmm_models:\n",
        "    score = hmm_model.get_score(X)\n",
        "    scores.append(score)\n",
        "  index = np.array(scores).argmax()\n",
        "  # Print the output\n",
        "  print(\"\\nTrue:\", truth_label)\n",
        "  print(\"Predicted:\", hmm_models[index][1])"
      ],
      "metadata": {
        "colab": {
          "base_uri": "https://localhost:8080/"
        },
        "id": "Nn0DxbNAva6g",
        "outputId": "5d39d861-3bf1-4e5c-d7b0-8121ee27a91e"
      },
      "execution_count": 24,
      "outputs": [
        {
          "output_type": "stream",
          "name": "stdout",
          "text": [
            "\n",
            "True: apple\n",
            "Predicted: apple\n",
            "\n",
            "True: banana\n",
            "Predicted: banana\n",
            "\n",
            "True: lime\n",
            "Predicted: lime\n",
            "\n",
            "True: orange\n",
            "Predicted: orange\n",
            "\n",
            "True: kiwi\n",
            "Predicted: kiwi\n",
            "\n",
            "True: pineapple\n",
            "Predicted: pineapple\n",
            "\n",
            "True: peach\n",
            "Predicted: peach\n"
          ]
        }
      ]
    },
    {
      "cell_type": "code",
      "source": [
        "!pip install torchaudio ipywebrtc"
      ],
      "metadata": {
        "id": "JNLj_pPu_SFM",
        "outputId": "0c9bbea4-e1d9-4dc3-ff16-de656ad41961",
        "colab": {
          "base_uri": "https://localhost:8080/"
        }
      },
      "execution_count": 25,
      "outputs": [
        {
          "output_type": "stream",
          "name": "stdout",
          "text": [
            "Requirement already satisfied: torchaudio in /usr/local/lib/python3.10/dist-packages (2.2.1+cu121)\n",
            "Collecting ipywebrtc\n",
            "  Downloading ipywebrtc-0.6.0-py2.py3-none-any.whl (260 kB)\n",
            "\u001b[2K     \u001b[90m━━━━━━━━━━━━━━━━━━━━━━━━━━━━━━━━━━━━━━━━\u001b[0m \u001b[32m260.7/260.7 kB\u001b[0m \u001b[31m2.5 MB/s\u001b[0m eta \u001b[36m0:00:00\u001b[0m\n",
            "\u001b[?25hRequirement already satisfied: torch==2.2.1 in /usr/local/lib/python3.10/dist-packages (from torchaudio) (2.2.1+cu121)\n",
            "Requirement already satisfied: filelock in /usr/local/lib/python3.10/dist-packages (from torch==2.2.1->torchaudio) (3.13.3)\n",
            "Requirement already satisfied: typing-extensions>=4.8.0 in /usr/local/lib/python3.10/dist-packages (from torch==2.2.1->torchaudio) (4.10.0)\n",
            "Requirement already satisfied: sympy in /usr/local/lib/python3.10/dist-packages (from torch==2.2.1->torchaudio) (1.12)\n",
            "Requirement already satisfied: networkx in /usr/local/lib/python3.10/dist-packages (from torch==2.2.1->torchaudio) (3.2.1)\n",
            "Requirement already satisfied: jinja2 in /usr/local/lib/python3.10/dist-packages (from torch==2.2.1->torchaudio) (3.1.3)\n",
            "Requirement already satisfied: fsspec in /usr/local/lib/python3.10/dist-packages (from torch==2.2.1->torchaudio) (2023.6.0)\n",
            "Collecting nvidia-cuda-nvrtc-cu12==12.1.105 (from torch==2.2.1->torchaudio)\n",
            "  Downloading nvidia_cuda_nvrtc_cu12-12.1.105-py3-none-manylinux1_x86_64.whl (23.7 MB)\n",
            "\u001b[2K     \u001b[90m━━━━━━━━━━━━━━━━━━━━━━━━━━━━━━━━━━━━━━━━\u001b[0m \u001b[32m23.7/23.7 MB\u001b[0m \u001b[31m31.9 MB/s\u001b[0m eta \u001b[36m0:00:00\u001b[0m\n",
            "\u001b[?25hCollecting nvidia-cuda-runtime-cu12==12.1.105 (from torch==2.2.1->torchaudio)\n",
            "  Downloading nvidia_cuda_runtime_cu12-12.1.105-py3-none-manylinux1_x86_64.whl (823 kB)\n",
            "\u001b[2K     \u001b[90m━━━━━━━━━━━━━━━━━━━━━━━━━━━━━━━━━━━━━━━━\u001b[0m \u001b[32m823.6/823.6 kB\u001b[0m \u001b[31m39.4 MB/s\u001b[0m eta \u001b[36m0:00:00\u001b[0m\n",
            "\u001b[?25hCollecting nvidia-cuda-cupti-cu12==12.1.105 (from torch==2.2.1->torchaudio)\n",
            "  Downloading nvidia_cuda_cupti_cu12-12.1.105-py3-none-manylinux1_x86_64.whl (14.1 MB)\n",
            "\u001b[2K     \u001b[90m━━━━━━━━━━━━━━━━━━━━━━━━━━━━━━━━━━━━━━━━\u001b[0m \u001b[32m14.1/14.1 MB\u001b[0m \u001b[31m45.2 MB/s\u001b[0m eta \u001b[36m0:00:00\u001b[0m\n",
            "\u001b[?25hCollecting nvidia-cudnn-cu12==8.9.2.26 (from torch==2.2.1->torchaudio)\n",
            "  Downloading nvidia_cudnn_cu12-8.9.2.26-py3-none-manylinux1_x86_64.whl (731.7 MB)\n",
            "\u001b[2K     \u001b[91m━━━━━━━━\u001b[0m\u001b[91m╸\u001b[0m\u001b[90m━━━━━━━━━━━━━━━━━━━━━━━━━━━━━━━\u001b[0m \u001b[32m161.5/731.7 MB\u001b[0m \u001b[31m1.7 MB/s\u001b[0m eta \u001b[36m0:05:27\u001b[0m\n",
            "\u001b[?25h\u001b[31mERROR: Operation cancelled by user\u001b[0m\u001b[31m\n",
            "\u001b[0m"
          ]
        }
      ]
    },
    {
      "cell_type": "code",
      "source": [
        "# Download a static FFmpeg build and add it to PATH.\n",
        "exist = !which ffmpeg\n",
        "if not exist:\n",
        "  !curl https://johnvansickle.com/ffmpeg/releases/ffmpeg-release-amd64-static.tar.xz -o ffmpeg.tar.xz \\\n",
        "     && tar -xf ffmpeg.tar.xz && rm ffmpeg.tar.xz\n",
        "  ffmdir = !find . -iname ffmpeg-*-static\n",
        "  path = %env PATH\n",
        "  path = path + ':' + ffmdir[0]\n",
        "  %env PATH $path\n",
        "print('')\n",
        "!which ffmpeg\n",
        "print('Done!')"
      ],
      "metadata": {
        "id": "Eu4Hyy9_ApKs",
        "outputId": "9a9a1689-4e77-41b8-95d8-d5f2bd32feb8",
        "colab": {
          "base_uri": "https://localhost:8080/"
        }
      },
      "execution_count": 26,
      "outputs": [
        {
          "output_type": "stream",
          "name": "stdout",
          "text": [
            "\n",
            "/usr/bin/ffmpeg\n",
            "Done!\n"
          ]
        }
      ]
    },
    {
      "cell_type": "code",
      "source": [
        "from ipywebrtc import AudioRecorder, CameraStream\n",
        "import torchaudio\n",
        "from IPython.display import Audio\n",
        "\n",
        "from google.colab import output\n",
        "output.enable_custom_widget_manager()"
      ],
      "metadata": {
        "id": "zpnBh8Mj_yJe",
        "outputId": "254964cc-646c-4bbd-a7ca-29a6eb31eecb",
        "colab": {
          "base_uri": "https://localhost:8080/",
          "height": 401
        }
      },
      "execution_count": 27,
      "outputs": [
        {
          "output_type": "error",
          "ename": "ModuleNotFoundError",
          "evalue": "No module named 'ipywebrtc'",
          "traceback": [
            "\u001b[0;31m---------------------------------------------------------------------------\u001b[0m",
            "\u001b[0;31mModuleNotFoundError\u001b[0m                       Traceback (most recent call last)",
            "\u001b[0;32m<ipython-input-27-594db4c7ee77>\u001b[0m in \u001b[0;36m<cell line: 1>\u001b[0;34m()\u001b[0m\n\u001b[0;32m----> 1\u001b[0;31m \u001b[0;32mfrom\u001b[0m \u001b[0mipywebrtc\u001b[0m \u001b[0;32mimport\u001b[0m \u001b[0mAudioRecorder\u001b[0m\u001b[0;34m,\u001b[0m \u001b[0mCameraStream\u001b[0m\u001b[0;34m\u001b[0m\u001b[0;34m\u001b[0m\u001b[0m\n\u001b[0m\u001b[1;32m      2\u001b[0m \u001b[0;32mimport\u001b[0m \u001b[0mtorchaudio\u001b[0m\u001b[0;34m\u001b[0m\u001b[0;34m\u001b[0m\u001b[0m\n\u001b[1;32m      3\u001b[0m \u001b[0;32mfrom\u001b[0m \u001b[0mIPython\u001b[0m\u001b[0;34m.\u001b[0m\u001b[0mdisplay\u001b[0m \u001b[0;32mimport\u001b[0m \u001b[0mAudio\u001b[0m\u001b[0;34m\u001b[0m\u001b[0;34m\u001b[0m\u001b[0m\n\u001b[1;32m      4\u001b[0m \u001b[0;34m\u001b[0m\u001b[0m\n\u001b[1;32m      5\u001b[0m \u001b[0;32mfrom\u001b[0m \u001b[0mgoogle\u001b[0m\u001b[0;34m.\u001b[0m\u001b[0mcolab\u001b[0m \u001b[0;32mimport\u001b[0m \u001b[0moutput\u001b[0m\u001b[0;34m\u001b[0m\u001b[0;34m\u001b[0m\u001b[0m\n",
            "\u001b[0;31mModuleNotFoundError\u001b[0m: No module named 'ipywebrtc'",
            "",
            "\u001b[0;31m---------------------------------------------------------------------------\u001b[0;32m\nNOTE: If your import is failing due to a missing package, you can\nmanually install dependencies using either !pip or !apt.\n\nTo view examples of installing some common dependencies, click the\n\"Open Examples\" button below.\n\u001b[0;31m---------------------------------------------------------------------------\u001b[0m\n"
          ],
          "errorDetails": {
            "actions": [
              {
                "action": "open_url",
                "actionText": "Open Examples",
                "url": "/notebooks/snippets/importing_libraries.ipynb"
              }
            ]
          }
        }
      ]
    },
    {
      "cell_type": "code",
      "source": [
        "camera = CameraStream(constraints={'audio': True,'video':False})\n",
        "recorder = AudioRecorder(stream=camera)\n",
        "recorder"
      ],
      "metadata": {
        "id": "5ArqfZLk_0LD"
      },
      "execution_count": null,
      "outputs": []
    },
    {
      "cell_type": "code",
      "source": [
        "# Write to recording.webm\n",
        "with open('recording.webm', 'wb') as f:\n",
        "    f.write(recorder.audio.value)\n",
        "\n",
        "# Translate recording.wemb to file.wav\n",
        "!ffmpeg -i recording.webm -ac 1 -f wav file.wav -y -hide_banner -loglevel panic\n",
        "\n",
        "# Extract features from input and predict\n",
        "input_audio, sr = librosa.load('file.wav')\n",
        "mfcc_features = librosa.feature.mfcc(sr=sr, y=input_audio)\n",
        "X = mfcc_features[:, :15]\n",
        "scores = []\n",
        "for hmm_model, label in hmm_models:\n",
        "  score = hmm_model.get_score(X)\n",
        "  scores.append(score)\n",
        "index = np.array(scores).argmax()\n",
        "print(\"Predicted:\", hmm_models[index][1])"
      ],
      "metadata": {
        "id": "GeKwvGZo_2EA"
      },
      "execution_count": null,
      "outputs": []
    },
    {
      "cell_type": "markdown",
      "source": [
        "# Saving the model\n"
      ],
      "metadata": {
        "id": "b31QY4FKzyRO"
      }
    },
    {
      "cell_type": "code",
      "source": [
        "try:\n",
        "    import cPickle as pickle\n",
        "except ModuleNotFoundError:\n",
        "    import pickle"
      ],
      "metadata": {
        "id": "_irI9lu8z01X"
      },
      "execution_count": 28,
      "outputs": []
    },
    {
      "cell_type": "code",
      "source": [
        "def save_object(obj, filename):\n",
        "    \"\"\"\n",
        "    Serialize object and store it in the newly\n",
        "    created file with the specified file name.\n",
        "\n",
        "    Note: This works for array as well.\n",
        "    \"\"\"\n",
        "\n",
        "    with open(f\"{filename}.pkl\", 'wb') as outp:\n",
        "        pickle.dump(obj, outp, pickle.HIGHEST_PROTOCOL)\n",
        "\n",
        "def load_object(filename):\n",
        "  \"\"\"\n",
        "  Load serialized object and return it. Exception will\n",
        "  be raised if the specified file is missing.\n",
        "  \"\"\"\n",
        "\n",
        "  with open(f\"{filename}.pkl\", 'rb') as inp:\n",
        "    return pickle.load(inp)\n",
        "  print(f\"File '{filename}.pkl' not found.\")\n",
        "\n",
        "# ==== Usage Example ====\n",
        "#\n",
        "# Save object:\n",
        "# foo = Foo()\n",
        "# save_object(foo, 'foo')\n",
        "#\n",
        "# Load object:\n",
        "# foo_obj = load_object('foo')"
      ],
      "metadata": {
        "id": "VKli60-sz4Yp"
      },
      "execution_count": 30,
      "outputs": []
    }
  ],
  "metadata": {
    "accelerator": "GPU",
    "colab": {
      "gpuType": "T4",
      "provenance": [],
      "include_colab_link": true
    },
    "kernelspec": {
      "display_name": "Python 3",
      "name": "python3"
    },
    "language_info": {
      "name": "python"
    }
  },
  "nbformat": 4,
  "nbformat_minor": 0
}