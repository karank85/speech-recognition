{
  "cells": [
    {
      "cell_type": "markdown",
      "metadata": {
        "id": "view-in-github",
        "colab_type": "text"
      },
      "source": [
        "<a href=\"https://colab.research.google.com/github/karank85/speech-recognition/blob/main/Copy_of_Project_2_Non_DL_Speech_Recognition.ipynb\" target=\"_parent\"><img src=\"https://colab.research.google.com/assets/colab-badge.svg\" alt=\"Open In Colab\"/></a>"
      ]
    },
    {
      "cell_type": "code",
      "execution_count": 106,
      "metadata": {
        "id": "joalvPPIEovi"
      },
      "outputs": [],
      "source": [
        "import os\n",
        "\n",
        "import numpy as np\n",
        "from numpy import ndarray\n",
        "import pandas as pd\n",
        "\n",
        "import librosa\n",
        "\n",
        "from sklearn.model_selection import train_test_split\n",
        "\n",
        "import matplotlib.pyplot as plt\n",
        "import IPython.display as ipd\n",
        "import librosa.display\n",
        "from tqdm import tqdm\n",
        "\n",
        "\n",
        "import glob\n",
        "import torch\n",
        "\n",
        "from pathlib import Path"
      ]
    },
    {
      "cell_type": "code",
      "execution_count": 107,
      "metadata": {
        "colab": {
          "base_uri": "https://localhost:8080/",
          "height": 36
        },
        "id": "0I4Jsfwxqda-",
        "outputId": "c177da92-321a-4536-97b8-79e8c04c9dfc"
      },
      "outputs": [
        {
          "output_type": "execute_result",
          "data": {
            "text/plain": [
              "'0.10.1'"
            ],
            "application/vnd.google.colaboratory.intrinsic+json": {
              "type": "string"
            }
          },
          "metadata": {},
          "execution_count": 107
        }
      ],
      "source": [
        "librosa.__version__"
      ]
    },
    {
      "cell_type": "code",
      "execution_count": 108,
      "metadata": {
        "colab": {
          "base_uri": "https://localhost:8080/"
        },
        "id": "O00x13rfjSEp",
        "outputId": "ff57664c-f293-4390-985b-b37ac6892720"
      },
      "outputs": [
        {
          "output_type": "stream",
          "name": "stdout",
          "text": [
            "Mounted at /content/drive\n"
          ]
        }
      ],
      "source": [
        "from google.colab import drive\n",
        "drive.mount('/content/drive', force_remount=True)"
      ]
    },
    {
      "cell_type": "code",
      "execution_count": 109,
      "metadata": {
        "colab": {
          "base_uri": "https://localhost:8080/",
          "height": 36
        },
        "id": "oFl-7zCtzEAS",
        "outputId": "87b0765b-73c4-4a26-f856-fc9d93a3227e"
      },
      "outputs": [
        {
          "output_type": "execute_result",
          "data": {
            "text/plain": [
              "'cpu'"
            ],
            "application/vnd.google.colaboratory.intrinsic+json": {
              "type": "string"
            }
          },
          "metadata": {},
          "execution_count": 109
        }
      ],
      "source": [
        "device = \"cuda\" if torch.cuda.is_available() else \"cpu\"\n",
        "device"
      ]
    },
    {
      "cell_type": "code",
      "execution_count": 110,
      "metadata": {
        "id": "q56S9PXxTVx3"
      },
      "outputs": [],
      "source": [
        "# # Assumptions:\n",
        "# # - The transcription file is located in the same directory as the audio files.\n",
        "# class AudioDataset:\n",
        "#   \"\"\"\n",
        "#   Class for loading and storing audio data.\n",
        "#   \"\"\"\n",
        "\n",
        "#   def __init__(self):\n",
        "#     self.df = pd.DataFrame(columns=['id', 'path', 'transcription'])\n",
        "\n",
        "#   def load_transcriptions(self, directory_path: str) -> bool:\n",
        "#     \"\"\"\n",
        "#     Load all transcriptions from a given directory, including subdirectories.\n",
        "#     Returns False if no transcription files were found, or if any failed to load.\n",
        "#     \"\"\"\n",
        "#     transcriptions_path = glob.glob(\n",
        "#         f\"{directory_path}/**/*.trans.txt\",\n",
        "#         recursive=True\n",
        "#     )\n",
        "\n",
        "#     if len(transcriptions_path) == 0:\n",
        "#       return False\n",
        "\n",
        "#     for path in transcriptions_path:\n",
        "#       if not self.load_transcription_file(path):\n",
        "#         return False\n",
        "\n",
        "#     return True\n",
        "\n",
        "\n",
        "\n",
        "#   def load_transcription_file(self, file_path: str) -> bool:\n",
        "#     \"\"\"\n",
        "#     Parse transcription file and records the audio ID - subtitle mapping.\n",
        "#     Returns False if the file could not be read.\n",
        "#     \"\"\"\n",
        "#     with open(file_path, \"r\") as file:\n",
        "#       file_directory = os.path.dirname(file_path)\n",
        "\n",
        "#       lines = file.read().split(\"\\n\")\n",
        "#       for line in lines:\n",
        "#         if len(line.strip()) == 0:\n",
        "#           continue\n",
        "#         splitter = line.split(\" \")\n",
        "#         file_name = splitter[0]\n",
        "#         file_content = ' '.join(splitter[1:])\n",
        "#         self.df.loc[len(self.df)] = {\n",
        "#             'id':file_name,\n",
        "#             'transcription':file_content,\n",
        "#             'path': f'{file_directory}/{file_name}.flac'\n",
        "#         }\n",
        "#       return True\n",
        "#     return False\n",
        "\n",
        "#   def keys(self):\n",
        "#     return iter(self.df['id'])\n",
        "\n",
        "#   def get(self, id: int):\n",
        "#     \"\"\"\n",
        "#     Retrieve a dataframe row from ID.\n",
        "#     \"\"\"\n",
        "#     return self.df.loc[self.df['id'] == id]"
      ]
    },
    {
      "cell_type": "code",
      "source": [
        "# Assumptions:\n",
        "# - The transcription file is located in the same directory as the audio files.\n",
        "class AudioDataset:\n",
        "  \"\"\"\n",
        "  Class for loading and storing audio data.\n",
        "  \"\"\"\n",
        "\n",
        "  def __init__(self):\n",
        "    self.df = pd.DataFrame(columns=['id', 'path', 'transcription'])\n",
        "\n",
        "  def load_transcriptions(self, directory_path: str) -> bool:\n",
        "    \"\"\"\n",
        "    Load all transcriptions from a given directory, including subdirectories.\n",
        "    Returns False if no transcription files were found, or if any failed to load.\n",
        "    \"\"\"\n",
        "    sound_names = glob.glob(\n",
        "        f\"{directory_path}/**/*.wav\",\n",
        "        recursive=True\n",
        "    )\n",
        "\n",
        "    if len(sound_names) == 0:\n",
        "      return False\n",
        "\n",
        "    for path in sound_names:\n",
        "      if not self.load_transcription_file(path):\n",
        "        return False\n",
        "\n",
        "    return True\n",
        "\n",
        "\n",
        "\n",
        "  def load_transcription_file(self, file_path: str) -> bool:\n",
        "    \"\"\"\n",
        "    Parse transcription file and records the audio ID - subtitle mapping.\n",
        "    Returns False if the file could not be read.\n",
        "    \"\"\"\n",
        "\n",
        "    file_directory = Path(file_path).parent\n",
        "    file_name = Path(file_path).stem\n",
        "    self.df.loc[len(self.df)] = {\n",
        "        'id':file_name,\n",
        "        'transcription':file_directory.name,\n",
        "        'path': f'{file_directory}/{file_name}.wav'\n",
        "    }\n",
        "    return True\n",
        "\n",
        "  def keys(self):\n",
        "    return iter(self.df['id'])\n",
        "\n",
        "  def get(self, id: int):\n",
        "    \"\"\"\n",
        "    Retrieve a dataframe row from ID.\n",
        "    \"\"\"\n",
        "    return self.df.loc[self.df['id'] == id]"
      ],
      "metadata": {
        "id": "s5MsALQX_47K"
      },
      "execution_count": 111,
      "outputs": []
    },
    {
      "cell_type": "code",
      "source": [
        "df_dict = {}"
      ],
      "metadata": {
        "id": "5yKBHPxjqa8_"
      },
      "execution_count": 112,
      "outputs": []
    },
    {
      "cell_type": "code",
      "execution_count": 113,
      "metadata": {
        "id": "KSEEVPAvV1IW"
      },
      "outputs": [],
      "source": [
        "# ds = AudioDataset()"
      ]
    },
    {
      "cell_type": "code",
      "source": [
        "all_subdirectories = glob.glob(\n",
        "        f\"/content/drive/MyDrive/test_hmm/*/\",\n",
        "        recursive=True\n",
        ")\n",
        "\n",
        "for path in all_subdirectories:\n",
        "  fruit_label = Path(path).name\n",
        "  ds = AudioDataset()\n",
        "  if ds.load_transcriptions(path):\n",
        "    df_dict[fruit_label] = ds.df"
      ],
      "metadata": {
        "id": "dVwBCsJEqj8f"
      },
      "execution_count": 114,
      "outputs": []
    },
    {
      "cell_type": "code",
      "execution_count": 115,
      "metadata": {
        "colab": {
          "base_uri": "https://localhost:8080/"
        },
        "id": "ZKy7iv3DWBZY",
        "outputId": "e741704f-4112-4bed-971f-9a04e714fb2f"
      },
      "outputs": [
        {
          "output_type": "execute_result",
          "data": {
            "text/plain": [
              "{'apple':          id                                               path transcription\n",
              " 0   apple01  /content/drive/MyDrive/test_hmm/apple/apple01.wav         apple\n",
              " 1   apple02  /content/drive/MyDrive/test_hmm/apple/apple02.wav         apple\n",
              " 2   apple03  /content/drive/MyDrive/test_hmm/apple/apple03.wav         apple\n",
              " 3   apple04  /content/drive/MyDrive/test_hmm/apple/apple04.wav         apple\n",
              " 4   apple05  /content/drive/MyDrive/test_hmm/apple/apple05.wav         apple\n",
              " 5   apple06  /content/drive/MyDrive/test_hmm/apple/apple06.wav         apple\n",
              " 6   apple07  /content/drive/MyDrive/test_hmm/apple/apple07.wav         apple\n",
              " 7   apple08  /content/drive/MyDrive/test_hmm/apple/apple08.wav         apple\n",
              " 8   apple09  /content/drive/MyDrive/test_hmm/apple/apple09.wav         apple\n",
              " 9   apple10  /content/drive/MyDrive/test_hmm/apple/apple10.wav         apple\n",
              " 10  apple11  /content/drive/MyDrive/test_hmm/apple/apple11.wav         apple\n",
              " 11  apple12  /content/drive/MyDrive/test_hmm/apple/apple12.wav         apple\n",
              " 12  apple13  /content/drive/MyDrive/test_hmm/apple/apple13.wav         apple\n",
              " 13  apple14  /content/drive/MyDrive/test_hmm/apple/apple14.wav         apple\n",
              " 14  apple15  /content/drive/MyDrive/test_hmm/apple/apple15.wav         apple,\n",
              " 'banana':           id                                               path transcription\n",
              " 0   banana01  /content/drive/MyDrive/test_hmm/banana/banana0...        banana\n",
              " 1   banana02  /content/drive/MyDrive/test_hmm/banana/banana0...        banana\n",
              " 2   banana03  /content/drive/MyDrive/test_hmm/banana/banana0...        banana\n",
              " 3   banana04  /content/drive/MyDrive/test_hmm/banana/banana0...        banana\n",
              " 4   banana05  /content/drive/MyDrive/test_hmm/banana/banana0...        banana\n",
              " 5   banana06  /content/drive/MyDrive/test_hmm/banana/banana0...        banana\n",
              " 6   banana07  /content/drive/MyDrive/test_hmm/banana/banana0...        banana\n",
              " 7   banana08  /content/drive/MyDrive/test_hmm/banana/banana0...        banana\n",
              " 8   banana09  /content/drive/MyDrive/test_hmm/banana/banana0...        banana\n",
              " 9   banana10  /content/drive/MyDrive/test_hmm/banana/banana1...        banana\n",
              " 10  banana11  /content/drive/MyDrive/test_hmm/banana/banana1...        banana\n",
              " 11  banana12  /content/drive/MyDrive/test_hmm/banana/banana1...        banana\n",
              " 12  banana13  /content/drive/MyDrive/test_hmm/banana/banana1...        banana\n",
              " 13  banana14  /content/drive/MyDrive/test_hmm/banana/banana1...        banana\n",
              " 14  banana15  /content/drive/MyDrive/test_hmm/banana/banana1...        banana,\n",
              " 'lime':         id                                             path transcription\n",
              " 0   lime01  /content/drive/MyDrive/test_hmm/lime/lime01.wav          lime\n",
              " 1   lime02  /content/drive/MyDrive/test_hmm/lime/lime02.wav          lime\n",
              " 2   lime03  /content/drive/MyDrive/test_hmm/lime/lime03.wav          lime\n",
              " 3   lime04  /content/drive/MyDrive/test_hmm/lime/lime04.wav          lime\n",
              " 4   lime05  /content/drive/MyDrive/test_hmm/lime/lime05.wav          lime\n",
              " 5   lime06  /content/drive/MyDrive/test_hmm/lime/lime06.wav          lime\n",
              " 6   lime07  /content/drive/MyDrive/test_hmm/lime/lime07.wav          lime\n",
              " 7   lime08  /content/drive/MyDrive/test_hmm/lime/lime08.wav          lime\n",
              " 8   lime09  /content/drive/MyDrive/test_hmm/lime/lime09.wav          lime\n",
              " 9   lime10  /content/drive/MyDrive/test_hmm/lime/lime10.wav          lime\n",
              " 10  lime11  /content/drive/MyDrive/test_hmm/lime/lime11.wav          lime\n",
              " 11  lime12  /content/drive/MyDrive/test_hmm/lime/lime12.wav          lime\n",
              " 12  lime13  /content/drive/MyDrive/test_hmm/lime/lime13.wav          lime\n",
              " 13  lime14  /content/drive/MyDrive/test_hmm/lime/lime14.wav          lime\n",
              " 14  lime15  /content/drive/MyDrive/test_hmm/lime/lime15.wav          lime,\n",
              " 'orange':           id                                               path transcription\n",
              " 0   orange01  /content/drive/MyDrive/test_hmm/orange/orange0...        orange\n",
              " 1   orange02  /content/drive/MyDrive/test_hmm/orange/orange0...        orange\n",
              " 2   orange03  /content/drive/MyDrive/test_hmm/orange/orange0...        orange\n",
              " 3   orange04  /content/drive/MyDrive/test_hmm/orange/orange0...        orange\n",
              " 4   orange05  /content/drive/MyDrive/test_hmm/orange/orange0...        orange\n",
              " 5   orange06  /content/drive/MyDrive/test_hmm/orange/orange0...        orange\n",
              " 6   orange07  /content/drive/MyDrive/test_hmm/orange/orange0...        orange\n",
              " 7   orange08  /content/drive/MyDrive/test_hmm/orange/orange0...        orange\n",
              " 8   orange09  /content/drive/MyDrive/test_hmm/orange/orange0...        orange\n",
              " 9   orange10  /content/drive/MyDrive/test_hmm/orange/orange1...        orange\n",
              " 10  orange11  /content/drive/MyDrive/test_hmm/orange/orange1...        orange\n",
              " 11  orange12  /content/drive/MyDrive/test_hmm/orange/orange1...        orange\n",
              " 12  orange13  /content/drive/MyDrive/test_hmm/orange/orange1...        orange\n",
              " 13  orange14  /content/drive/MyDrive/test_hmm/orange/orange1...        orange\n",
              " 14  orange15  /content/drive/MyDrive/test_hmm/orange/orange1...        orange,\n",
              " 'kiwi':         id                                             path transcription\n",
              " 0   kiwi01  /content/drive/MyDrive/test_hmm/kiwi/kiwi01.wav          kiwi\n",
              " 1   kiwi02  /content/drive/MyDrive/test_hmm/kiwi/kiwi02.wav          kiwi\n",
              " 2   kiwi03  /content/drive/MyDrive/test_hmm/kiwi/kiwi03.wav          kiwi\n",
              " 3   kiwi04  /content/drive/MyDrive/test_hmm/kiwi/kiwi04.wav          kiwi\n",
              " 4   kiwi05  /content/drive/MyDrive/test_hmm/kiwi/kiwi05.wav          kiwi\n",
              " 5   kiwi06  /content/drive/MyDrive/test_hmm/kiwi/kiwi06.wav          kiwi\n",
              " 6   kiwi07  /content/drive/MyDrive/test_hmm/kiwi/kiwi07.wav          kiwi\n",
              " 7   kiwi08  /content/drive/MyDrive/test_hmm/kiwi/kiwi08.wav          kiwi\n",
              " 8   kiwi09  /content/drive/MyDrive/test_hmm/kiwi/kiwi09.wav          kiwi\n",
              " 9   kiwi10  /content/drive/MyDrive/test_hmm/kiwi/kiwi10.wav          kiwi\n",
              " 10  kiwi12  /content/drive/MyDrive/test_hmm/kiwi/kiwi12.wav          kiwi\n",
              " 11  kiwi13  /content/drive/MyDrive/test_hmm/kiwi/kiwi13.wav          kiwi\n",
              " 12  kiwi14  /content/drive/MyDrive/test_hmm/kiwi/kiwi14.wav          kiwi\n",
              " 13  kiwi15  /content/drive/MyDrive/test_hmm/kiwi/kiwi15.wav          kiwi\n",
              " 14  kiwi11  /content/drive/MyDrive/test_hmm/kiwi/kiwi11.wav          kiwi,\n",
              " 'pineapple':              id                                               path  \\\n",
              " 0   pineapple01  /content/drive/MyDrive/test_hmm/pineapple/pine...   \n",
              " 1   pineapple02  /content/drive/MyDrive/test_hmm/pineapple/pine...   \n",
              " 2   pineapple03  /content/drive/MyDrive/test_hmm/pineapple/pine...   \n",
              " 3   pineapple04  /content/drive/MyDrive/test_hmm/pineapple/pine...   \n",
              " 4   pineapple05  /content/drive/MyDrive/test_hmm/pineapple/pine...   \n",
              " 5   pineapple06  /content/drive/MyDrive/test_hmm/pineapple/pine...   \n",
              " 6   pineapple07  /content/drive/MyDrive/test_hmm/pineapple/pine...   \n",
              " 7   pineapple08  /content/drive/MyDrive/test_hmm/pineapple/pine...   \n",
              " 8   pineapple09  /content/drive/MyDrive/test_hmm/pineapple/pine...   \n",
              " 9   pineapple10  /content/drive/MyDrive/test_hmm/pineapple/pine...   \n",
              " 10  pineapple11  /content/drive/MyDrive/test_hmm/pineapple/pine...   \n",
              " 11  pineapple12  /content/drive/MyDrive/test_hmm/pineapple/pine...   \n",
              " 12  pineapple13  /content/drive/MyDrive/test_hmm/pineapple/pine...   \n",
              " 13  pineapple14  /content/drive/MyDrive/test_hmm/pineapple/pine...   \n",
              " 14  pineapple15  /content/drive/MyDrive/test_hmm/pineapple/pine...   \n",
              " \n",
              "    transcription  \n",
              " 0      pineapple  \n",
              " 1      pineapple  \n",
              " 2      pineapple  \n",
              " 3      pineapple  \n",
              " 4      pineapple  \n",
              " 5      pineapple  \n",
              " 6      pineapple  \n",
              " 7      pineapple  \n",
              " 8      pineapple  \n",
              " 9      pineapple  \n",
              " 10     pineapple  \n",
              " 11     pineapple  \n",
              " 12     pineapple  \n",
              " 13     pineapple  \n",
              " 14     pineapple  ,\n",
              " 'peach':          id                                               path transcription\n",
              " 0   peach01  /content/drive/MyDrive/test_hmm/peach/peach01.wav         peach\n",
              " 1   peach02  /content/drive/MyDrive/test_hmm/peach/peach02.wav         peach\n",
              " 2   peach03  /content/drive/MyDrive/test_hmm/peach/peach03.wav         peach\n",
              " 3   peach04  /content/drive/MyDrive/test_hmm/peach/peach04.wav         peach\n",
              " 4   peach05  /content/drive/MyDrive/test_hmm/peach/peach05.wav         peach\n",
              " 5   peach06  /content/drive/MyDrive/test_hmm/peach/peach06.wav         peach\n",
              " 6   peach07  /content/drive/MyDrive/test_hmm/peach/peach07.wav         peach\n",
              " 7   peach08  /content/drive/MyDrive/test_hmm/peach/peach08.wav         peach\n",
              " 8   peach09  /content/drive/MyDrive/test_hmm/peach/peach09.wav         peach\n",
              " 9   peach10  /content/drive/MyDrive/test_hmm/peach/peach10.wav         peach\n",
              " 10  peach11  /content/drive/MyDrive/test_hmm/peach/peach11.wav         peach\n",
              " 11  peach12  /content/drive/MyDrive/test_hmm/peach/peach12.wav         peach\n",
              " 12  peach13  /content/drive/MyDrive/test_hmm/peach/peach13.wav         peach\n",
              " 13  peach14  /content/drive/MyDrive/test_hmm/peach/peach14.wav         peach\n",
              " 14  peach15  /content/drive/MyDrive/test_hmm/peach/peach15.wav         peach}"
            ]
          },
          "metadata": {},
          "execution_count": 115
        }
      ],
      "source": [
        "df_dict"
      ]
    },
    {
      "cell_type": "markdown",
      "metadata": {
        "id": "vUEkvJCdpukC"
      },
      "source": [
        "### Extracting Features"
      ]
    },
    {
      "cell_type": "code",
      "execution_count": 116,
      "metadata": {
        "id": "Xn_bykkYrAsW"
      },
      "outputs": [],
      "source": [
        "# from librosa.feature import mfcc\n",
        "# import librosa\n",
        "# audio, sampling_freq = librosa.load(ds.df.head()['path'].values[0])\n",
        "# mfcc_features = librosa.feature.mfcc(sr=sampling_freq, y=audio)\n",
        "# print('\\nNumber of windows =', mfcc_features.shape[0])\n",
        "# print('Length of each feature =', mfcc_features.shape[1])"
      ]
    },
    {
      "cell_type": "code",
      "execution_count": 117,
      "metadata": {
        "id": "K6xerVMEP_U2"
      },
      "outputs": [],
      "source": [
        "# mfcc_features = mfcc_features.T\n",
        "# plt.matshow(mfcc_features)\n",
        "# plt.title('MFCC')"
      ]
    },
    {
      "cell_type": "code",
      "execution_count": 118,
      "metadata": {
        "colab": {
          "base_uri": "https://localhost:8080/"
        },
        "id": "B9BvQpBmmA-_",
        "outputId": "29015d20-553a-44ab-cabe-b8454158894d"
      },
      "outputs": [
        {
          "output_type": "stream",
          "name": "stdout",
          "text": [
            "Requirement already satisfied: hmmlearn in /usr/local/lib/python3.10/dist-packages (0.3.2)\n",
            "Requirement already satisfied: numpy>=1.10 in /usr/local/lib/python3.10/dist-packages (from hmmlearn) (1.25.2)\n",
            "Requirement already satisfied: scikit-learn!=0.22.0,>=0.16 in /usr/local/lib/python3.10/dist-packages (from hmmlearn) (1.2.2)\n",
            "Requirement already satisfied: scipy>=0.19 in /usr/local/lib/python3.10/dist-packages (from hmmlearn) (1.11.4)\n",
            "Requirement already satisfied: joblib>=1.1.1 in /usr/local/lib/python3.10/dist-packages (from scikit-learn!=0.22.0,>=0.16->hmmlearn) (1.3.2)\n",
            "Requirement already satisfied: threadpoolctl>=2.0.0 in /usr/local/lib/python3.10/dist-packages (from scikit-learn!=0.22.0,>=0.16->hmmlearn) (3.3.0)\n",
            "Requirement already satisfied: features in /usr/local/lib/python3.10/dist-packages (0.5.12)\n",
            "Requirement already satisfied: concepts~=0.7 in /usr/local/lib/python3.10/dist-packages (from features) (0.9.2)\n",
            "Requirement already satisfied: fileconfig~=0.5 in /usr/local/lib/python3.10/dist-packages (from features) (0.6.1)\n",
            "Requirement already satisfied: graphviz~=0.7 in /usr/local/lib/python3.10/dist-packages (from features) (0.20.2)\n",
            "Requirement already satisfied: bitsets~=0.7 in /usr/local/lib/python3.10/dist-packages (from concepts~=0.7->features) (0.8.4)\n"
          ]
        }
      ],
      "source": [
        "!pip install hmmlearn\n",
        "!pip install features"
      ]
    },
    {
      "cell_type": "code",
      "execution_count": 119,
      "metadata": {
        "id": "_H-mpoRAmDd6"
      },
      "outputs": [],
      "source": [
        "import os\n",
        "import numpy as np\n",
        "from scipy.io import wavfile\n",
        "from hmmlearn import hmm #importing GaussianHMM\n",
        "import librosa # reading wavefilesfrom librosa.feature import mfcc #to extract mfcc features"
      ]
    },
    {
      "cell_type": "code",
      "execution_count": 120,
      "metadata": {
        "id": "e9pLjDWuQtqI"
      },
      "outputs": [],
      "source": [
        "class HMMTrainer(object):\n",
        "  def __init__(self, model_name='GaussianHMM', n_components=4):\n",
        "     self.model_name = model_name\n",
        "     self.n_components = n_components\n",
        "\n",
        "     self.models = []\n",
        "     if self.model_name == 'GaussianHMM':\n",
        "        self.model=hmm.GaussianHMM(n_components=4)\n",
        "     else:\n",
        "        print(\"Please choose GaussianHMM\")\n",
        "\n",
        "  def train(self, X):\n",
        "      self.models.append(self.model.fit(X))\n",
        "\n",
        "  def get_score(self, input_data):\n",
        "      return self.model.score(input_data)"
      ]
    },
    {
      "cell_type": "code",
      "execution_count": 121,
      "metadata": {
        "id": "CiK6LEbOoBfQ"
      },
      "outputs": [],
      "source": [
        "# ds.df"
      ]
    },
    {
      "cell_type": "code",
      "source": [
        "hmm_models = []\n",
        "\n",
        "for df in df_dict.items():\n",
        "  fruit_label = df[0]\n",
        "  X = np.array([])\n",
        "  for index, row in df[1].iloc[:-1,:].iterrows():\n",
        "    # Read the input file\n",
        "    audio, sampling_freq = librosa.load(row['path'])\n",
        "    # Extract MFCC features\n",
        "    mfcc_features = librosa.feature.mfcc(sr=sampling_freq, y=audio)\n",
        "    # Append to the variable X\n",
        "    if len(X) == 0:\n",
        "      X = mfcc_features[:, :15]  # 15 here denotes the number of MFCC coefficients to consider\n",
        "    else:\n",
        "      X = np.append(X, mfcc_features[:, :15], axis=0)\n",
        "    # Append the label\n",
        "    #  print('X.shape =', X.shape)\n",
        "\n",
        "  # Train HMM model for this iteration\n",
        "  hmm_trainer = HMMTrainer()\n",
        "  hmm_trainer.train(X)  # Train using the current MFCC features\n",
        "  hmm_models.append((hmm_trainer, fruit_label))\n"
      ],
      "metadata": {
        "id": "sd7pFP7Bs5i0"
      },
      "execution_count": 122,
      "outputs": []
    },
    {
      "cell_type": "code",
      "source": [
        "print(len(hmm_models))"
      ],
      "metadata": {
        "colab": {
          "base_uri": "https://localhost:8080/"
        },
        "id": "sE3dUaKwuQEZ",
        "outputId": "580beee6-15b8-4a78-80b1-ac5ea97da089"
      },
      "execution_count": 123,
      "outputs": [
        {
          "output_type": "stream",
          "name": "stdout",
          "text": [
            "7\n"
          ]
        }
      ]
    },
    {
      "cell_type": "code",
      "source": [
        "test_files = {}\n",
        "\n",
        "for df in df_dict.items():\n",
        "  truth_label = df[0]\n",
        "  selected_test = df[1].iloc[-1,:]\n",
        "  test_files[truth_label] = selected_test['path']"
      ],
      "metadata": {
        "id": "Ye6wJvkau7wf"
      },
      "execution_count": 124,
      "outputs": []
    },
    {
      "cell_type": "code",
      "source": [
        "print(test_files)"
      ],
      "metadata": {
        "colab": {
          "base_uri": "https://localhost:8080/"
        },
        "id": "edSWkOzbvXXZ",
        "outputId": "5ff7c43f-f29f-4f63-c5ca-c222731b2cf0"
      },
      "execution_count": 125,
      "outputs": [
        {
          "output_type": "stream",
          "name": "stdout",
          "text": [
            "{'apple': '/content/drive/MyDrive/test_hmm/apple/apple15.wav', 'banana': '/content/drive/MyDrive/test_hmm/banana/banana15.wav', 'lime': '/content/drive/MyDrive/test_hmm/lime/lime15.wav', 'orange': '/content/drive/MyDrive/test_hmm/orange/orange15.wav', 'kiwi': '/content/drive/MyDrive/test_hmm/kiwi/kiwi11.wav', 'pineapple': '/content/drive/MyDrive/test_hmm/pineapple/pineapple15.wav', 'peach': '/content/drive/MyDrive/test_hmm/peach/peach15.wav'}\n"
          ]
        }
      ]
    },
    {
      "cell_type": "code",
      "source": [
        "for truth_label, path in test_files.items():\n",
        "  audio, sampling_freq = librosa.load(path)\n",
        "  # Extract MFCC features\n",
        "  mfcc_features = librosa.feature.mfcc(sr=sampling_freq, y=audio)\n",
        "  X = mfcc_features[:, :15]\n",
        "  scores = []\n",
        "  for hmm_model, label in hmm_models:\n",
        "    score = hmm_model.get_score(X)\n",
        "    scores.append(score)\n",
        "  index = np.array(scores).argmax()\n",
        "  # Print the output\n",
        "  print(\"\\nTrue:\", truth_label)\n",
        "  print(\"Predicted:\", hmm_models[index][1])"
      ],
      "metadata": {
        "colab": {
          "base_uri": "https://localhost:8080/"
        },
        "id": "Nn0DxbNAva6g",
        "outputId": "e2b2d99c-53e8-44b8-f5fa-7b61b88516b0"
      },
      "execution_count": 126,
      "outputs": [
        {
          "output_type": "stream",
          "name": "stdout",
          "text": [
            "\n",
            "True: apple\n",
            "Predicted: apple\n",
            "\n",
            "True: banana\n",
            "Predicted: banana\n",
            "\n",
            "True: lime\n",
            "Predicted: lime\n",
            "\n",
            "True: orange\n",
            "Predicted: orange\n",
            "\n",
            "True: kiwi\n",
            "Predicted: kiwi\n",
            "\n",
            "True: pineapple\n",
            "Predicted: pineapple\n",
            "\n",
            "True: peach\n",
            "Predicted: peach\n"
          ]
        }
      ]
    },
    {
      "cell_type": "code",
      "execution_count": 127,
      "metadata": {
        "id": "oTVddhw_yy7B"
      },
      "outputs": [],
      "source": [
        "# hmm_models = []\n",
        "# X = np.array([])\n",
        "\n",
        "# for index, row in ds.df.iterrows():\n",
        "#    # Read the input file\n",
        "#    audio, sampling_freq = librosa.load(row['path'])\n",
        "#    # Extract MFCC features\n",
        "#    mfcc_features = librosa.feature.mfcc(sr=sampling_freq, y=audio)\n",
        "#    # Append to the variable X\n",
        "#    if len(X) == 0:\n",
        "#      X = mfcc_features[:, :15]  # 15 here denotes the number of MFCC coefficients to consider\n",
        "#    else:\n",
        "#      X = np.append(X, mfcc_features[:, :15], axis=0)\n",
        "#    # Append the label\n",
        "#   #  print('X.shape =', X.shape)\n",
        "\n",
        "#    # Train HMM model for this iteration\n",
        "#    hmm_trainer = HMMTrainer()\n",
        "#    hmm_trainer.train(X)  # Train using the current MFCC features\n",
        "#    hmm_models.append((hmm_trainer, row['transcription']))\n",
        "#    hmm_trainer = None\n"
      ]
    },
    {
      "cell_type": "code",
      "execution_count": 128,
      "metadata": {
        "id": "YYhzPXAKSktn"
      },
      "outputs": [],
      "source": [
        "# test = ds.df.iloc[-1,:]\n",
        "# # Read the input file\n",
        "# audio, sampling_freq = librosa.load(test['path'])\n",
        "# # Extract MFCC features\n",
        "# mfcc_features = librosa.feature.mfcc(sr=sampling_freq, y=audio)\n",
        "# X = mfcc_features[:, :15]\n",
        "# y_word = test['transcription']"
      ]
    },
    {
      "cell_type": "code",
      "execution_count": 129,
      "metadata": {
        "id": "haeYhQDoSKd8"
      },
      "outputs": [],
      "source": [
        "# scores = []\n",
        "# for hmm_model, _ in hmm_models:\n",
        "#     score = hmm_model.get_score(X)\n",
        "#     scores.append(score)\n",
        "\n",
        "# index = np.array(scores).argmax()\n",
        "# # Print the output\n",
        "# print(\"\\nTrue:\", y_word)\n",
        "# print(\"Predicted:\", hmm_models[index][1])"
      ]
    }
  ],
  "metadata": {
    "accelerator": "GPU",
    "colab": {
      "gpuType": "T4",
      "provenance": [],
      "include_colab_link": true
    },
    "kernelspec": {
      "display_name": "Python 3",
      "name": "python3"
    },
    "language_info": {
      "name": "python"
    }
  },
  "nbformat": 4,
  "nbformat_minor": 0
}